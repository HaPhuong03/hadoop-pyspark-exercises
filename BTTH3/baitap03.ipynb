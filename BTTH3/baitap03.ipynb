{
 "cells": [
  {
   "cell_type": "code",
   "execution_count": 1,
   "id": "66d6480d-b8f8-4005-87bd-11ff6f5588aa",
   "metadata": {},
   "outputs": [],
   "source": [
    "rddDataPS = sc.textFile('data_phanso')"
   ]
  },
  {
   "cell_type": "code",
   "execution_count": 2,
   "id": "3beba0a6-5867-4e92-8a4d-99c950b6fa1d",
   "metadata": {},
   "outputs": [
    {
     "name": "stderr",
     "output_type": "stream",
     "text": [
      "                                                                                "
     ]
    },
    {
     "data": {
      "text/plain": [
       "['2/3', '5/6', '7/8', '1/2', '9/10']"
      ]
     },
     "execution_count": 2,
     "metadata": {},
     "output_type": "execute_result"
    }
   ],
   "source": [
    "rddDataPS.collect()"
   ]
  },
  {
   "cell_type": "code",
   "execution_count": 6,
   "id": "08de3eea-129e-4eaa-a57b-2eb3a5333c3b",
   "metadata": {},
   "outputs": [],
   "source": [
    "def chuanHoaPS(x: str):\n",
    "    items = x.split('/')\n",
    "    return (int(items[0]),int(items[1]))"
   ]
  },
  {
   "cell_type": "code",
   "execution_count": 7,
   "id": "9b972764-ae09-4168-a531-e10ea1ef5e54",
   "metadata": {},
   "outputs": [],
   "source": [
    "rddPS = rddDataPS.map(chuanHoaPS)"
   ]
  },
  {
   "cell_type": "code",
   "execution_count": 8,
   "id": "decdcff4-41da-4093-b922-47af346fcc5b",
   "metadata": {},
   "outputs": [
    {
     "name": "stderr",
     "output_type": "stream",
     "text": [
      "                                                                                "
     ]
    },
    {
     "data": {
      "text/plain": [
       "[(2, 3), (5, 6), (7, 8), (1, 2), (9, 10)]"
      ]
     },
     "execution_count": 8,
     "metadata": {},
     "output_type": "execute_result"
    }
   ],
   "source": [
    "rddPS.collect()"
   ]
  },
  {
   "cell_type": "code",
   "execution_count": 9,
   "id": "fc9ea62c-875f-447c-838b-b844446290cb",
   "metadata": {},
   "outputs": [],
   "source": [
    "def gcd(a, b):\n",
    "    while b:\n",
    "        a, b = b, a % b\n",
    "    return a"
   ]
  },
  {
   "cell_type": "code",
   "execution_count": 10,
   "id": "a71d774f-71a6-4323-8594-342dd4f0fde8",
   "metadata": {},
   "outputs": [],
   "source": [
    "def congPhanSo(ps1, ps2):\n",
    "    tu1, mau1 = ps1\n",
    "    tu2, mau2 = ps2\n",
    "    tu = tu1 * mau2 + tu2 * mau1\n",
    "    mau = mau1 * mau2\n",
    "    ucln = gcd(tu, mau)\n",
    "    return (tu // ucln, mau // ucln)"
   ]
  },
  {
   "cell_type": "code",
   "execution_count": 11,
   "id": "187b7bb0-e63f-447f-a556-6f1122a742b2",
   "metadata": {},
   "outputs": [
    {
     "name": "stdout",
     "output_type": "stream",
     "text": [
      "Tổng các phân số là: 151/40\n"
     ]
    },
    {
     "name": "stderr",
     "output_type": "stream",
     "text": [
      "                                                                                "
     ]
    }
   ],
   "source": [
    "tongPS = rddPS.reduce(congPhanSo)\n",
    "\n",
    "print(f\"Tổng các phân số là: {tongPS[0]}/{tongPS[1]}\")"
   ]
  },
  {
   "cell_type": "code",
   "execution_count": null,
   "id": "f02def4f-2e58-4777-91a6-7df851dde718",
   "metadata": {},
   "outputs": [],
   "source": []
  }
 ],
 "metadata": {
  "kernelspec": {
   "display_name": "Python 3 (ipykernel)",
   "language": "python",
   "name": "python3"
  },
  "language_info": {
   "codemirror_mode": {
    "name": "ipython",
    "version": 3
   },
   "file_extension": ".py",
   "mimetype": "text/x-python",
   "name": "python",
   "nbconvert_exporter": "python",
   "pygments_lexer": "ipython3",
   "version": "3.12.3"
  }
 },
 "nbformat": 4,
 "nbformat_minor": 5
}
