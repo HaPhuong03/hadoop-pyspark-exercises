{
 "cells": [
  {
   "cell_type": "code",
   "execution_count": 1,
   "id": "82efad6d-7740-44a9-bd0e-9d514519e052",
   "metadata": {},
   "outputs": [],
   "source": [
    "import random"
   ]
  },
  {
   "cell_type": "code",
   "execution_count": 2,
   "id": "22418f3c-00e8-410c-936d-c48738b3725c",
   "metadata": {},
   "outputs": [
    {
     "data": {
      "text/plain": [
       "[8.78940010759248,\n",
       " 1.409966051241115,\n",
       " 9.749638476895143,\n",
       " 0.5096139230076757,\n",
       " 2.3981173135399247,\n",
       " 1.5467461193580934,\n",
       " 4.6320405005937,\n",
       " 0.7683922131457877,\n",
       " 2.40871270699492,\n",
       " 0.752846115850303,\n",
       " 1.1291384775124413,\n",
       " 2.685534413685403,\n",
       " 3.9019347883304265,\n",
       " 2.2280153884640885,\n",
       " 9.800556642327361,\n",
       " 5.214912377670026,\n",
       " 0.3543990924687257,\n",
       " 1.7480083282036174,\n",
       " 8.097118445096283,\n",
       " 5.872018728126111,\n",
       " 2.885929997497513,\n",
       " 6.273506954951552,\n",
       " 8.372327182308476,\n",
       " 7.950336919632081,\n",
       " 9.849134895670895,\n",
       " 8.851059673643656,\n",
       " 5.281249801773903,\n",
       " 8.844573470742906,\n",
       " 8.833913411363186,\n",
       " 8.27740075097544,\n",
       " 1.8043372316135131,\n",
       " 3.897026410604986,\n",
       " 5.713763834579316,\n",
       " 6.666368896601339,\n",
       " 4.504725312860027,\n",
       " 0.5647451359094413,\n",
       " 1.6353786151612237,\n",
       " 5.939854809418817,\n",
       " 0.16753535056763913,\n",
       " 0.5656961561635898,\n",
       " 1.3205405412761972,\n",
       " 6.553867167809422,\n",
       " 1.8654785340064295,\n",
       " 8.670797744682268,\n",
       " 0.048455961250680746,\n",
       " 6.672546769921647,\n",
       " 1.8069538573047883,\n",
       " 7.925227257068695,\n",
       " 0.6363482612824267,\n",
       " 1.9971928636652092,\n",
       " 9.516219954516101,\n",
       " 3.3888225927347095,\n",
       " 3.7467905790940206,\n",
       " 8.415075080456178,\n",
       " 7.984660242933242,\n",
       " 6.5111297266925385,\n",
       " 4.317578504618007,\n",
       " 5.378580161804679,\n",
       " 4.0061737592972655,\n",
       " 8.171655270363534,\n",
       " 8.881424484274659,\n",
       " 2.374877643666263,\n",
       " 8.284862554966082,\n",
       " 3.390749178591558,\n",
       " 1.0238053579118422,\n",
       " 2.6002422151091853,\n",
       " 7.511213135178274,\n",
       " 6.974928371066053,\n",
       " 6.000672668626842,\n",
       " 3.359020313565626,\n",
       " 8.839595208263436,\n",
       " 9.901102488159102,\n",
       " 1.1556447307481232,\n",
       " 1.599947674200044,\n",
       " 2.696033707094212,\n",
       " 1.720582661851917,\n",
       " 7.1867128699489635,\n",
       " 1.4057200784282609,\n",
       " 2.4062467509151664,\n",
       " 4.924564068069754,\n",
       " 3.4323357298744606,\n",
       " 5.049786606606711,\n",
       " 7.746016615709518,\n",
       " 8.552719034776299,\n",
       " 9.067898495925785,\n",
       " 1.7286120229361768,\n",
       " 9.750827707433135,\n",
       " 0.4701924324710205,\n",
       " 6.555478156344924,\n",
       " 7.026167246494525,\n",
       " 3.545172186478307,\n",
       " 8.780948845292878,\n",
       " 1.4600102231521517,\n",
       " 2.323192369988437,\n",
       " 4.240367996264114,\n",
       " 7.083936241753705,\n",
       " 4.679395723047101,\n",
       " 3.179691241612744,\n",
       " 3.2984245703258686,\n",
       " 5.171183605035191]"
      ]
     },
     "execution_count": 2,
     "metadata": {},
     "output_type": "execute_result"
    }
   ],
   "source": [
    "data = []\n",
    "\n",
    "for _ in range(0,100):\n",
    "        data.append(random.uniform(0, 10))\n",
    "\n",
    "data"
   ]
  },
  {
   "cell_type": "code",
   "execution_count": 3,
   "id": "0fdd77c0-ca1f-4db0-a0ad-6a81aca0efd7",
   "metadata": {},
   "outputs": [],
   "source": [
    "rddData = sc.parallelize(data)"
   ]
  },
  {
   "cell_type": "code",
   "execution_count": 4,
   "id": "af0cd8b6-99c3-49fc-9d53-0a4074482e84",
   "metadata": {},
   "outputs": [
    {
     "name": "stderr",
     "output_type": "stream",
     "text": [
      "                                                                                "
     ]
    },
    {
     "data": {
      "text/plain": [
       "100"
      ]
     },
     "execution_count": 4,
     "metadata": {},
     "output_type": "execute_result"
    }
   ],
   "source": [
    "rddData.count()"
   ]
  },
  {
   "cell_type": "code",
   "execution_count": 6,
   "id": "b48dfc20-106d-4bcf-86e0-5fae549aaede",
   "metadata": {},
   "outputs": [
    {
     "data": {
      "text/plain": [
       "475.1903730650794"
      ]
     },
     "execution_count": 6,
     "metadata": {},
     "output_type": "execute_result"
    }
   ],
   "source": [
    "tong = rddData.reduce(lambda x, y: x + y)\n",
    "tong"
   ]
  },
  {
   "cell_type": "code",
   "execution_count": 7,
   "id": "45ea0eb5-accc-4df5-82c4-87f9bd7794bb",
   "metadata": {},
   "outputs": [
    {
     "name": "stdout",
     "output_type": "stream",
     "text": [
      "Trung binh cong cua day so thuc la:  4.7519037306507945\n"
     ]
    }
   ],
   "source": [
    "print('Trung binh cong cua day so thuc la: ', tong/rddData.count())"
   ]
  },
  {
   "cell_type": "code",
   "execution_count": 8,
   "id": "d380e5a7-b554-4c75-adfc-2191c19b24d8",
   "metadata": {},
   "outputs": [
    {
     "data": {
      "text/plain": [
       "1.9964323188117515e+53"
      ]
     },
     "execution_count": 8,
     "metadata": {},
     "output_type": "execute_result"
    }
   ],
   "source": [
    "tich = rddData.reduce(lambda x, y: x * y)\n",
    "tich"
   ]
  },
  {
   "cell_type": "code",
   "execution_count": 9,
   "id": "4a828e21-730a-4817-82d3-b46f474e2e35",
   "metadata": {},
   "outputs": [
    {
     "data": {
      "text/plain": [
       "3.41194911765907"
      ]
     },
     "execution_count": 9,
     "metadata": {},
     "output_type": "execute_result"
    }
   ],
   "source": [
    "tbNhan = tich ** (1/rddData.count())\n",
    "tbNhan"
   ]
  },
  {
   "cell_type": "code",
   "execution_count": 10,
   "id": "edc431c3-f9b7-4dfe-b730-44d0dae66299",
   "metadata": {},
   "outputs": [
    {
     "name": "stdout",
     "output_type": "stream",
     "text": [
      "Trung binh nhan cua day so thuc la:  3.41194911765907\n"
     ]
    }
   ],
   "source": [
    "print('Trung binh nhan cua day so thuc la: ',tbNhan)"
   ]
  },
  {
   "cell_type": "code",
   "execution_count": null,
   "id": "0fc5bc9b-5a14-46fb-a492-d2dc95639a3b",
   "metadata": {},
   "outputs": [],
   "source": []
  }
 ],
 "metadata": {
  "kernelspec": {
   "display_name": "Python 3 (ipykernel)",
   "language": "python",
   "name": "python3"
  },
  "language_info": {
   "codemirror_mode": {
    "name": "ipython",
    "version": 3
   },
   "file_extension": ".py",
   "mimetype": "text/x-python",
   "name": "python",
   "nbconvert_exporter": "python",
   "pygments_lexer": "ipython3",
   "version": "3.12.3"
  }
 },
 "nbformat": 4,
 "nbformat_minor": 5
}
