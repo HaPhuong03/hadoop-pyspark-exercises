{
 "cells": [
  {
   "cell_type": "markdown",
   "id": "07a7cdb6-6c42-4378-8b13-c31acbbe829e",
   "metadata": {
    "jp-MarkdownHeadingCollapsed": true
   },
   "source": [
    "# TH4:DataFrame va Spark SQL"
   ]
  },
  {
   "cell_type": "markdown",
   "id": "3abe5a7c-def7-44cf-acaf-ecca3ab27d9f",
   "metadata": {
    "jp-MarkdownHeadingCollapsed": true
   },
   "source": [
    "## Bài tập 1: Tạo và thao tác với DataFrame từ JSON"
   ]
  },
  {
   "cell_type": "code",
   "execution_count": 1,
   "id": "dd49b19e-f14b-4309-aa3c-dc5c33e20234",
   "metadata": {},
   "outputs": [
    {
     "name": "stderr",
     "output_type": "stream",
     "text": [
      "25/05/21 19:30:18 WARN SparkSession: Using an existing Spark session; only runtime SQL configurations will take effect.\n"
     ]
    }
   ],
   "source": [
    "from pyspark.sql import SparkSession\n",
    "\n",
    "spark = SparkSession.builder \\\n",
    "    .appName(\"DataFrame JSON Example\") \\\n",
    "    .getOrCreate()"
   ]
  },
  {
   "cell_type": "code",
   "execution_count": 2,
   "id": "c750be9a-77b8-45f6-b90a-20de9af08e4d",
   "metadata": {},
   "outputs": [
    {
     "name": "stderr",
     "output_type": "stream",
     "text": [
      "                                                                                "
     ]
    }
   ],
   "source": [
    "df1 = spark.read.json(\"examples/src/main/resources/people.json\")"
   ]
  },
  {
   "cell_type": "code",
   "execution_count": 3,
   "id": "d495f270-4353-48b8-95c2-0525d97ea761",
   "metadata": {},
   "outputs": [
    {
     "name": "stderr",
     "output_type": "stream",
     "text": [
      "                                                                                "
     ]
    },
    {
     "name": "stdout",
     "output_type": "stream",
     "text": [
      "+----+-------+\n",
      "| age|   name|\n",
      "+----+-------+\n",
      "|NULL|Michael|\n",
      "|  30|   Andy|\n",
      "|  19| Justin|\n",
      "+----+-------+\n",
      "\n"
     ]
    }
   ],
   "source": [
    "df1.show()"
   ]
  },
  {
   "cell_type": "code",
   "execution_count": 4,
   "id": "ce330b4b-a974-468a-815b-3f1494d73e3b",
   "metadata": {},
   "outputs": [
    {
     "name": "stdout",
     "output_type": "stream",
     "text": [
      "root\n",
      " |-- age: long (nullable = true)\n",
      " |-- name: string (nullable = true)\n",
      "\n"
     ]
    }
   ],
   "source": [
    "df1.printSchema()"
   ]
  },
  {
   "cell_type": "code",
   "execution_count": 5,
   "id": "4860c22c-f40b-4624-b5b5-04f425da2df5",
   "metadata": {},
   "outputs": [
    {
     "name": "stderr",
     "output_type": "stream",
     "text": [
      "                                                                                "
     ]
    },
    {
     "name": "stdout",
     "output_type": "stream",
     "text": [
      "+-------+\n",
      "|   name|\n",
      "+-------+\n",
      "|Michael|\n",
      "|   Andy|\n",
      "| Justin|\n",
      "+-------+\n",
      "\n"
     ]
    }
   ],
   "source": [
    "df1.select(\"name\").show()"
   ]
  },
  {
   "cell_type": "code",
   "execution_count": 6,
   "id": "e3950b8e-2379-477c-8978-0de511e2826c",
   "metadata": {},
   "outputs": [
    {
     "name": "stdout",
     "output_type": "stream",
     "text": [
      "+-------+---------+\n",
      "|   name|(age + 1)|\n",
      "+-------+---------+\n",
      "|Michael|     NULL|\n",
      "|   Andy|       31|\n",
      "| Justin|       20|\n",
      "+-------+---------+\n",
      "\n"
     ]
    }
   ],
   "source": [
    "df1.select(df1['name'], df1['age'] + 1).show()"
   ]
  },
  {
   "cell_type": "code",
   "execution_count": 7,
   "id": "d4c871c8-eb79-4f4e-818d-cfefae27bb3a",
   "metadata": {},
   "outputs": [
    {
     "name": "stdout",
     "output_type": "stream",
     "text": [
      "+---+----+\n",
      "|age|name|\n",
      "+---+----+\n",
      "| 30|Andy|\n",
      "+---+----+\n",
      "\n"
     ]
    }
   ],
   "source": [
    "df1.filter(df1['age'] > 21).show()"
   ]
  },
  {
   "cell_type": "code",
   "execution_count": 8,
   "id": "839780db-7fea-4096-bbbb-7c57ef9fbf16",
   "metadata": {},
   "outputs": [
    {
     "name": "stderr",
     "output_type": "stream",
     "text": [
      "[Stage 7:>                                                          (0 + 1) / 1]"
     ]
    },
    {
     "name": "stdout",
     "output_type": "stream",
     "text": [
      "+----+-----+\n",
      "| age|count|\n",
      "+----+-----+\n",
      "|  19|    1|\n",
      "|NULL|    1|\n",
      "|  30|    1|\n",
      "+----+-----+\n",
      "\n"
     ]
    },
    {
     "name": "stderr",
     "output_type": "stream",
     "text": [
      "                                                                                "
     ]
    }
   ],
   "source": [
    "df1.groupBy(\"age\").count().show()"
   ]
  },
  {
   "cell_type": "markdown",
   "id": "ded1d86d-57bd-42c0-841b-f68096a4873d",
   "metadata": {
    "jp-MarkdownHeadingCollapsed": true
   },
   "source": [
    "## Bài tập 2: Tạo và thao tác với DataFrame từ file CSV"
   ]
  },
  {
   "cell_type": "code",
   "execution_count": 9,
   "id": "61afd752-b484-425e-a602-8cb857210253",
   "metadata": {},
   "outputs": [],
   "source": [
    "df2 = spark.read.format(\"csv\").option(\"header\", \"true\").load(\"LAB4/ebay.csv\")"
   ]
  },
  {
   "cell_type": "code",
   "execution_count": 10,
   "id": "28960912-4572-4324-a151-84ce1389e230",
   "metadata": {},
   "outputs": [
    {
     "name": "stdout",
     "output_type": "stream",
     "text": [
      "+----------+-----+--------+--------------+----------+-------+-----+----+----------+\n",
      "| auctionid|  bid| bidtime|        bidder|bidderrate|openbid|price|item|daystolive|\n",
      "+----------+-----+--------+--------------+----------+-------+-----+----+----------+\n",
      "|8213034705|   95|2.927373|      jake7870|         0|     95|117.5|xbox|         3|\n",
      "|8213034705|  115|2.943484| davidbresler2|         1|     95|117.5|xbox|         3|\n",
      "|8213034705|  100|2.951285|gladimacowgirl|        58|     95|117.5|xbox|         3|\n",
      "|8213034705|117.5|2.998947|       daysrus|        10|     95|117.5|xbox|         3|\n",
      "|8213060420|    2|0.065266|    donnie4814|         5|      1|  120|xbox|         3|\n",
      "|8213060420|15.25|0.123218|   myreeceyboy|        52|      1|  120|xbox|         3|\n",
      "|8213060420|    3|0.186539|  parakeet2004|         5|      1|  120|xbox|         3|\n",
      "|8213060420|   10| 0.18669|  parakeet2004|         5|      1|  120|xbox|         3|\n",
      "|8213060420|24.99|0.187049|  parakeet2004|         5|      1|  120|xbox|         3|\n",
      "|8213060420|   20|0.249491| bluebubbles_1|        25|      1|  120|xbox|         3|\n",
      "|8213060420|   22| 0.24956| bluebubbles_1|        25|      1|  120|xbox|         3|\n",
      "|8213060420|   24|0.249653| bluebubbles_1|        25|      1|  120|xbox|         3|\n",
      "|8213060420|   26|0.249757| bluebubbles_1|        25|      1|  120|xbox|         3|\n",
      "|8213060420|   80| 0.59059|        sa4741|         3|      1|  120|xbox|         3|\n",
      "|8213060420|   75|0.657384|     jhnsn2273|        51|      1|  120|xbox|         3|\n",
      "|8213060420|   85|0.657917|     jhnsn2273|        51|      1|  120|xbox|         3|\n",
      "|8213060420|   83|0.816447|        sa4741|         3|      1|  120|xbox|         3|\n",
      "|8213060420|  100|1.005903|        sa4741|         3|      1|  120|xbox|         3|\n",
      "|8213060420|  100|1.012697|     jhnsn2273|        51|      1|  120|xbox|         3|\n",
      "|8213060420|  110|1.013056|     jhnsn2273|        51|      1|  120|xbox|         3|\n",
      "+----------+-----+--------+--------------+----------+-------+-----+----+----------+\n",
      "only showing top 20 rows\n",
      "\n"
     ]
    }
   ],
   "source": [
    "df2.show()"
   ]
  },
  {
   "cell_type": "code",
   "execution_count": 11,
   "id": "95d82b13-c035-4f20-b4ad-75c9b917df4b",
   "metadata": {},
   "outputs": [
    {
     "name": "stdout",
     "output_type": "stream",
     "text": [
      "root\n",
      " |-- auctionid: string (nullable = true)\n",
      " |-- bid: string (nullable = true)\n",
      " |-- bidtime: string (nullable = true)\n",
      " |-- bidder: string (nullable = true)\n",
      " |-- bidderrate: string (nullable = true)\n",
      " |-- openbid: string (nullable = true)\n",
      " |-- price: string (nullable = true)\n",
      " |-- item: string (nullable = true)\n",
      " |-- daystolive: string (nullable = true)\n",
      "\n"
     ]
    }
   ],
   "source": [
    "df2.printSchema()"
   ]
  },
  {
   "cell_type": "code",
   "execution_count": 12,
   "id": "01369480-b23a-4d8c-aabd-85d0f7775048",
   "metadata": {},
   "outputs": [
    {
     "name": "stderr",
     "output_type": "stream",
     "text": [
      "                                                                                "
     ]
    },
    {
     "data": {
      "text/plain": [
       "627"
      ]
     },
     "execution_count": 12,
     "metadata": {},
     "output_type": "execute_result"
    }
   ],
   "source": [
    "df2.select(\"auctionid\").distinct().count()"
   ]
  },
  {
   "cell_type": "code",
   "execution_count": 13,
   "id": "c57c650e-42f9-4f54-ab67-3049706f38d5",
   "metadata": {},
   "outputs": [
    {
     "name": "stderr",
     "output_type": "stream",
     "text": [
      "[Stage 16:>                                                         (0 + 1) / 1]"
     ]
    },
    {
     "name": "stdout",
     "output_type": "stream",
     "text": [
      "+----------+-------+-----+\n",
      "| auctionid|   item|count|\n",
      "+----------+-------+-----+\n",
      "|1645883276|cartier|   12|\n",
      "|1641242797|cartier|    5|\n",
      "|1642005995|cartier|   18|\n",
      "|3020060476|   palm|   22|\n",
      "|1644681469|cartier|   14|\n",
      "|8212145833|   xbox|   26|\n",
      "|1638844464|cartier|   16|\n",
      "|3020573049|   palm|    2|\n",
      "|3015632013|   palm|   28|\n",
      "|3024659380|   palm|   26|\n",
      "|3025373736|   palm|   15|\n",
      "|8213387659|   xbox|   25|\n",
      "|1643201832|cartier|    4|\n",
      "|3014834745|   palm|   21|\n",
      "|3020257463|   palm|   16|\n",
      "|3020274575|   palm|   11|\n",
      "|3019821569|   palm|   27|\n",
      "|3024707992|   palm|   20|\n",
      "|8212277835|   xbox|    3|\n",
      "|3019326870|   palm|   33|\n",
      "+----------+-------+-----+\n",
      "only showing top 20 rows\n",
      "\n"
     ]
    },
    {
     "name": "stderr",
     "output_type": "stream",
     "text": [
      "                                                                                "
     ]
    }
   ],
   "source": [
    "df2.groupBy(\"auctionid\", \"item\").count().show()"
   ]
  },
  {
   "cell_type": "code",
   "execution_count": 14,
   "id": "0891ac9e-90fc-4d8f-8f63-b1e1c21c3ffa",
   "metadata": {},
   "outputs": [
    {
     "name": "stdout",
     "output_type": "stream",
     "text": [
      "+----------+-----+--------+--------------+----------+-------+-----+----+----------+\n",
      "| auctionid|  bid| bidtime|        bidder|bidderrate|openbid|price|item|daystolive|\n",
      "+----------+-----+--------+--------------+----------+-------+-----+----+----------+\n",
      "|8213034705|   95|2.927373|      jake7870|         0|     95|117.5|xbox|         3|\n",
      "|8213034705|  115|2.943484| davidbresler2|         1|     95|117.5|xbox|         3|\n",
      "|8213034705|  100|2.951285|gladimacowgirl|        58|     95|117.5|xbox|         3|\n",
      "|8213034705|117.5|2.998947|       daysrus|        10|     95|117.5|xbox|         3|\n",
      "|8213060420|    2|0.065266|    donnie4814|         5|      1|120.0|xbox|         3|\n",
      "|8213060420|15.25|0.123218|   myreeceyboy|        52|      1|120.0|xbox|         3|\n",
      "|8213060420|    3|0.186539|  parakeet2004|         5|      1|120.0|xbox|         3|\n",
      "|8213060420|   10| 0.18669|  parakeet2004|         5|      1|120.0|xbox|         3|\n",
      "|8213060420|24.99|0.187049|  parakeet2004|         5|      1|120.0|xbox|         3|\n",
      "|8213060420|   20|0.249491| bluebubbles_1|        25|      1|120.0|xbox|         3|\n",
      "|8213060420|   22| 0.24956| bluebubbles_1|        25|      1|120.0|xbox|         3|\n",
      "|8213060420|   24|0.249653| bluebubbles_1|        25|      1|120.0|xbox|         3|\n",
      "|8213060420|   26|0.249757| bluebubbles_1|        25|      1|120.0|xbox|         3|\n",
      "|8213060420|   80| 0.59059|        sa4741|         3|      1|120.0|xbox|         3|\n",
      "|8213060420|   75|0.657384|     jhnsn2273|        51|      1|120.0|xbox|         3|\n",
      "|8213060420|   85|0.657917|     jhnsn2273|        51|      1|120.0|xbox|         3|\n",
      "|8213060420|   83|0.816447|        sa4741|         3|      1|120.0|xbox|         3|\n",
      "|8213060420|  100|1.005903|        sa4741|         3|      1|120.0|xbox|         3|\n",
      "|8213060420|  100|1.012697|     jhnsn2273|        51|      1|120.0|xbox|         3|\n",
      "|8213060420|  110|1.013056|     jhnsn2273|        51|      1|120.0|xbox|         3|\n",
      "+----------+-----+--------+--------------+----------+-------+-----+----+----------+\n",
      "only showing top 20 rows\n",
      "\n"
     ]
    }
   ],
   "source": [
    "from pyspark.sql.functions import col\n",
    "\n",
    "df2 = df2.withColumn(\"price\", col(\"price\").cast(\"float\"))\n",
    "\n",
    "highprice = df2.filter(col(\"price\") > 100)\n",
    "highprice.show()"
   ]
  },
  {
   "cell_type": "markdown",
   "id": "41af6803-6270-487c-93fa-ae5f684858df",
   "metadata": {},
   "source": [
    "## Bài tập 3: Thao tác với DataFrame bằng ngôn ngữ SQL"
   ]
  },
  {
   "cell_type": "code",
   "execution_count": 15,
   "id": "3a9bdcfc-50cc-46fc-8706-da0bcd8ff4e3",
   "metadata": {},
   "outputs": [],
   "source": [
    "df1.createOrReplaceTempView(\"people\")"
   ]
  },
  {
   "cell_type": "code",
   "execution_count": 16,
   "id": "e9bed58b-11e5-4c5a-94bd-ce8efb252e1e",
   "metadata": {},
   "outputs": [
    {
     "name": "stdout",
     "output_type": "stream",
     "text": [
      "+----+-------+\n",
      "| age|   name|\n",
      "+----+-------+\n",
      "|NULL|Michael|\n",
      "|  30|   Andy|\n",
      "|  19| Justin|\n",
      "+----+-------+\n",
      "\n"
     ]
    }
   ],
   "source": [
    "spark.sql(\"SELECT * FROM people\").show()"
   ]
  },
  {
   "cell_type": "code",
   "execution_count": 17,
   "id": "1ddebeac-08f7-452d-9407-50875816e65a",
   "metadata": {},
   "outputs": [
    {
     "name": "stdout",
     "output_type": "stream",
     "text": [
      "+-------+\n",
      "|   name|\n",
      "+-------+\n",
      "|Michael|\n",
      "|   Andy|\n",
      "| Justin|\n",
      "+-------+\n",
      "\n"
     ]
    }
   ],
   "source": [
    "spark.sql(\"SELECT name FROM people\").show()"
   ]
  },
  {
   "cell_type": "code",
   "execution_count": 18,
   "id": "6037f7ce-dc05-49a9-bacb-ab185a9e23ab",
   "metadata": {},
   "outputs": [
    {
     "name": "stdout",
     "output_type": "stream",
     "text": [
      "+-------+----------+\n",
      "|   name|age_plus_1|\n",
      "+-------+----------+\n",
      "|Michael|      NULL|\n",
      "|   Andy|        31|\n",
      "| Justin|        20|\n",
      "+-------+----------+\n",
      "\n"
     ]
    }
   ],
   "source": [
    "spark.sql(\"SELECT name, age + 1 AS age_plus_1 FROM people\").show()"
   ]
  },
  {
   "cell_type": "code",
   "execution_count": 19,
   "id": "1e58d422-86c5-4cd4-90b2-7b01fcf67b8e",
   "metadata": {},
   "outputs": [
    {
     "name": "stdout",
     "output_type": "stream",
     "text": [
      "+---+----+\n",
      "|age|name|\n",
      "+---+----+\n",
      "| 30|Andy|\n",
      "+---+----+\n",
      "\n"
     ]
    }
   ],
   "source": [
    "spark.sql(\"SELECT * FROM people WHERE age > 21\").show()"
   ]
  },
  {
   "cell_type": "code",
   "execution_count": 20,
   "id": "a6bad797-a839-4830-983a-ea576f45ad15",
   "metadata": {},
   "outputs": [
    {
     "name": "stdout",
     "output_type": "stream",
     "text": [
      "+----+-----+\n",
      "| age|count|\n",
      "+----+-----+\n",
      "|  19|    1|\n",
      "|NULL|    1|\n",
      "|  30|    1|\n",
      "+----+-----+\n",
      "\n"
     ]
    }
   ],
   "source": [
    "spark.sql(\"SELECT age, COUNT(*) AS count FROM people GROUP BY age\").show()"
   ]
  },
  {
   "cell_type": "markdown",
   "id": "e1666204-8dd6-4c4d-aec1-e5ccb9dddf30",
   "metadata": {
    "jp-MarkdownHeadingCollapsed": true
   },
   "source": [
    "## Bài tập 4: Thao tác với DataFrame bằng ngôn ngữ SQL"
   ]
  },
  {
   "cell_type": "code",
   "execution_count": 21,
   "id": "72373121-a9c8-4116-8ae6-5171d72f77a8",
   "metadata": {},
   "outputs": [],
   "source": [
    "df2.createOrReplaceTempView(\"ebay\")"
   ]
  },
  {
   "cell_type": "code",
   "execution_count": 22,
   "id": "785739dd-1be5-4d76-927c-6cd665e950d5",
   "metadata": {},
   "outputs": [
    {
     "name": "stdout",
     "output_type": "stream",
     "text": [
      "+----------+-----+--------+--------------+----------+-------+-----+----+----------+\n",
      "| auctionid|  bid| bidtime|        bidder|bidderrate|openbid|price|item|daystolive|\n",
      "+----------+-----+--------+--------------+----------+-------+-----+----+----------+\n",
      "|8213034705|   95|2.927373|      jake7870|         0|     95|117.5|xbox|         3|\n",
      "|8213034705|  115|2.943484| davidbresler2|         1|     95|117.5|xbox|         3|\n",
      "|8213034705|  100|2.951285|gladimacowgirl|        58|     95|117.5|xbox|         3|\n",
      "|8213034705|117.5|2.998947|       daysrus|        10|     95|117.5|xbox|         3|\n",
      "|8213060420|    2|0.065266|    donnie4814|         5|      1|120.0|xbox|         3|\n",
      "|8213060420|15.25|0.123218|   myreeceyboy|        52|      1|120.0|xbox|         3|\n",
      "|8213060420|    3|0.186539|  parakeet2004|         5|      1|120.0|xbox|         3|\n",
      "|8213060420|   10| 0.18669|  parakeet2004|         5|      1|120.0|xbox|         3|\n",
      "|8213060420|24.99|0.187049|  parakeet2004|         5|      1|120.0|xbox|         3|\n",
      "|8213060420|   20|0.249491| bluebubbles_1|        25|      1|120.0|xbox|         3|\n",
      "|8213060420|   22| 0.24956| bluebubbles_1|        25|      1|120.0|xbox|         3|\n",
      "|8213060420|   24|0.249653| bluebubbles_1|        25|      1|120.0|xbox|         3|\n",
      "|8213060420|   26|0.249757| bluebubbles_1|        25|      1|120.0|xbox|         3|\n",
      "|8213060420|   80| 0.59059|        sa4741|         3|      1|120.0|xbox|         3|\n",
      "|8213060420|   75|0.657384|     jhnsn2273|        51|      1|120.0|xbox|         3|\n",
      "|8213060420|   85|0.657917|     jhnsn2273|        51|      1|120.0|xbox|         3|\n",
      "|8213060420|   83|0.816447|        sa4741|         3|      1|120.0|xbox|         3|\n",
      "|8213060420|  100|1.005903|        sa4741|         3|      1|120.0|xbox|         3|\n",
      "|8213060420|  100|1.012697|     jhnsn2273|        51|      1|120.0|xbox|         3|\n",
      "|8213060420|  110|1.013056|     jhnsn2273|        51|      1|120.0|xbox|         3|\n",
      "+----------+-----+--------+--------------+----------+-------+-----+----+----------+\n",
      "only showing top 20 rows\n",
      "\n"
     ]
    }
   ],
   "source": [
    "sqlDF = spark.sql(\"SELECT * FROM ebay\")\n",
    "sqlDF.show()"
   ]
  },
  {
   "cell_type": "code",
   "execution_count": 23,
   "id": "5f08a956-1c93-4a92-a525-a2a5fab01aa7",
   "metadata": {},
   "outputs": [
    {
     "name": "stderr",
     "output_type": "stream",
     "text": [
      "[Stage 28:==========================================================(1 + 0) / 1]"
     ]
    },
    {
     "name": "stdout",
     "output_type": "stream",
     "text": [
      "+-------------+\n",
      "|auction_count|\n",
      "+-------------+\n",
      "|          627|\n",
      "+-------------+\n",
      "\n"
     ]
    },
    {
     "name": "stderr",
     "output_type": "stream",
     "text": [
      "                                                                                "
     ]
    }
   ],
   "source": [
    "spark.sql(\"SELECT COUNT(DISTINCT auctionid) AS auction_count FROM ebay\").show()"
   ]
  },
  {
   "cell_type": "code",
   "execution_count": 24,
   "id": "7d78445b-7719-40e6-b504-d51a8824386c",
   "metadata": {},
   "outputs": [
    {
     "name": "stderr",
     "output_type": "stream",
     "text": [
      "[Stage 34:>                                                         (0 + 1) / 1]"
     ]
    },
    {
     "name": "stdout",
     "output_type": "stream",
     "text": [
      "+----------+-------+---------+\n",
      "| auctionid|   item|bid_count|\n",
      "+----------+-------+---------+\n",
      "|1645883276|cartier|       12|\n",
      "|1641242797|cartier|        5|\n",
      "|1642005995|cartier|       18|\n",
      "|3020060476|   palm|       22|\n",
      "|1644681469|cartier|       14|\n",
      "|8212145833|   xbox|       26|\n",
      "|1638844464|cartier|       16|\n",
      "|3020573049|   palm|        2|\n",
      "|3015632013|   palm|       28|\n",
      "|3024659380|   palm|       26|\n",
      "|3025373736|   palm|       15|\n",
      "|8213387659|   xbox|       25|\n",
      "|1643201832|cartier|        4|\n",
      "|3014834745|   palm|       21|\n",
      "|3020257463|   palm|       16|\n",
      "|3020274575|   palm|       11|\n",
      "|3019821569|   palm|       27|\n",
      "|3024707992|   palm|       20|\n",
      "|8212277835|   xbox|        3|\n",
      "|3019326870|   palm|       33|\n",
      "+----------+-------+---------+\n",
      "only showing top 20 rows\n",
      "\n"
     ]
    },
    {
     "name": "stderr",
     "output_type": "stream",
     "text": [
      "                                                                                "
     ]
    }
   ],
   "source": [
    "spark.sql(\"\"\"\n",
    "    SELECT auctionid, item, COUNT(*) AS bid_count\n",
    "    FROM ebay\n",
    "    GROUP BY auctionid, item\n",
    "\"\"\").show()"
   ]
  },
  {
   "cell_type": "code",
   "execution_count": 25,
   "id": "418e06b4-fcd1-473d-a35e-7dea043374eb",
   "metadata": {},
   "outputs": [
    {
     "name": "stdout",
     "output_type": "stream",
     "text": [
      "+----------+-----+--------+--------------+----------+-------+-----+----+----------+\n",
      "| auctionid|  bid| bidtime|        bidder|bidderrate|openbid|price|item|daystolive|\n",
      "+----------+-----+--------+--------------+----------+-------+-----+----+----------+\n",
      "|8213034705|   95|2.927373|      jake7870|         0|     95|117.5|xbox|         3|\n",
      "|8213034705|  115|2.943484| davidbresler2|         1|     95|117.5|xbox|         3|\n",
      "|8213034705|  100|2.951285|gladimacowgirl|        58|     95|117.5|xbox|         3|\n",
      "|8213034705|117.5|2.998947|       daysrus|        10|     95|117.5|xbox|         3|\n",
      "|8213060420|    2|0.065266|    donnie4814|         5|      1|120.0|xbox|         3|\n",
      "|8213060420|15.25|0.123218|   myreeceyboy|        52|      1|120.0|xbox|         3|\n",
      "|8213060420|    3|0.186539|  parakeet2004|         5|      1|120.0|xbox|         3|\n",
      "|8213060420|   10| 0.18669|  parakeet2004|         5|      1|120.0|xbox|         3|\n",
      "|8213060420|24.99|0.187049|  parakeet2004|         5|      1|120.0|xbox|         3|\n",
      "|8213060420|   20|0.249491| bluebubbles_1|        25|      1|120.0|xbox|         3|\n",
      "|8213060420|   22| 0.24956| bluebubbles_1|        25|      1|120.0|xbox|         3|\n",
      "|8213060420|   24|0.249653| bluebubbles_1|        25|      1|120.0|xbox|         3|\n",
      "|8213060420|   26|0.249757| bluebubbles_1|        25|      1|120.0|xbox|         3|\n",
      "|8213060420|   80| 0.59059|        sa4741|         3|      1|120.0|xbox|         3|\n",
      "|8213060420|   75|0.657384|     jhnsn2273|        51|      1|120.0|xbox|         3|\n",
      "|8213060420|   85|0.657917|     jhnsn2273|        51|      1|120.0|xbox|         3|\n",
      "|8213060420|   83|0.816447|        sa4741|         3|      1|120.0|xbox|         3|\n",
      "|8213060420|  100|1.005903|        sa4741|         3|      1|120.0|xbox|         3|\n",
      "|8213060420|  100|1.012697|     jhnsn2273|        51|      1|120.0|xbox|         3|\n",
      "|8213060420|  110|1.013056|     jhnsn2273|        51|      1|120.0|xbox|         3|\n",
      "+----------+-----+--------+--------------+----------+-------+-----+----+----------+\n",
      "only showing top 20 rows\n",
      "\n"
     ]
    }
   ],
   "source": [
    "spark.sql(\"\"\"\n",
    "    SELECT *\n",
    "    FROM ebay\n",
    "    WHERE CAST(price AS FLOAT) > 100\n",
    "\"\"\").show()"
   ]
  },
  {
   "cell_type": "markdown",
   "id": "81420969-3b00-4d42-8cd9-e62eba1b0222",
   "metadata": {
    "jp-MarkdownHeadingCollapsed": true
   },
   "source": [
    "# TH5: Spark MLLib"
   ]
  },
  {
   "cell_type": "markdown",
   "id": "f3b1342c-02db-4061-b836-81bfecd2358e",
   "metadata": {},
   "source": [
    "## Bài tập 1: Thao tác với dữ liệu đầu vào"
   ]
  },
  {
   "cell_type": "code",
   "execution_count": 26,
   "id": "7cc40ffc-d927-429a-9ad4-cfe3fbc16b5f",
   "metadata": {},
   "outputs": [
    {
     "name": "stderr",
     "output_type": "stream",
     "text": [
      "                                                                                "
     ]
    },
    {
     "data": {
      "text/plain": [
       "294"
      ]
     },
     "execution_count": 26,
     "metadata": {},
     "output_type": "execute_result"
    }
   ],
   "source": [
    "data = spark.read.format(\"csv\")\\\n",
    ".option(\"header\", \"true\")\\\n",
    ".option(\"inferSchema\", \"true\")\\\n",
    ".load(\"LAB4/data_geo.csv\")\n",
    "data.cache()\n",
    "data.count()"
   ]
  },
  {
   "cell_type": "markdown",
   "id": "788215f1-8741-4c2e-b945-4ec3ee0287e3",
   "metadata": {},
   "source": [
    "Hiển thị thông tin dữ liệu"
   ]
  },
  {
   "cell_type": "code",
   "execution_count": 27,
   "id": "e641e478-0a2e-400c-ac00-e3670954c960",
   "metadata": {},
   "outputs": [
    {
     "data": {
      "text/plain": [
       "DataFrame[2014 rank: int, City: string, State: string, State Code: string, 2014 Population estimate: int, 2015 median sales price: double]"
      ]
     },
     "metadata": {},
     "output_type": "display_data"
    },
    {
     "name": "stdout",
     "output_type": "stream",
     "text": [
      "root\n",
      " |-- 2014 rank: integer (nullable = true)\n",
      " |-- City: string (nullable = true)\n",
      " |-- State: string (nullable = true)\n",
      " |-- State Code: string (nullable = true)\n",
      " |-- 2014 Population estimate: integer (nullable = true)\n",
      " |-- 2015 median sales price: double (nullable = true)\n",
      "\n"
     ]
    },
    {
     "name": "stderr",
     "output_type": "stream",
     "text": [
      "                                                                                "
     ]
    },
    {
     "data": {
      "text/plain": [
       "DataFrame[City: string, State Code: string, 2014 Pop estimate: double, 2015 median sales price: double]"
      ]
     },
     "metadata": {},
     "output_type": "display_data"
    }
   ],
   "source": [
    "display(data)\n",
    "data.printSchema()\n",
    "#Loại bỏ các dòng có giá trị trống\n",
    "data = data.dropna()\n",
    "data.count()\n",
    "#Tạo View để truy vấn hiển thị dữ liệu\n",
    "data.createOrReplaceTempView(\"data_geo\")\n",
    "df1 = spark.sql(\"\"\"\n",
    "    SELECT City,\n",
    "           `State Code`,\n",
    "           `2014 Population estimate` / 1000 AS `2014 Pop estimate`,\n",
    "           `2015 median sales price`\n",
    "    FROM data_geo\n",
    "\"\"\")\n",
    "display(df1)"
   ]
  },
  {
   "cell_type": "markdown",
   "id": "0dd675c9-a6d5-47fa-a795-9eecd492202a",
   "metadata": {},
   "source": [
    "Tiền xử lý dữ liệu"
   ]
  },
  {
   "cell_type": "code",
   "execution_count": 28,
   "id": "be5bda06-cc28-43e1-b5c3-fe8841809c16",
   "metadata": {},
   "outputs": [
    {
     "name": "stdout",
     "output_type": "stream",
     "text": [
      "Defaulting to user installation because normal site-packages is not writeable\n",
      "Requirement already satisfied: numpy in /home/haphuong/.local/lib/python3.12/site-packages (2.2.6)\n",
      "Note: you may need to restart the kernel to use updated packages.\n"
     ]
    }
   ],
   "source": [
    "pip install numpy --break-system-packages"
   ]
  },
  {
   "cell_type": "code",
   "execution_count": 29,
   "id": "4358074e-5645-4b21-8e50-64edf3a0fb27",
   "metadata": {},
   "outputs": [
    {
     "name": "stderr",
     "output_type": "stream",
     "text": [
      "                                                                                "
     ]
    },
    {
     "data": {
      "text/plain": [
       "DataFrame[features: vector, label: double]"
      ]
     },
     "metadata": {},
     "output_type": "display_data"
    }
   ],
   "source": [
    "from pyspark.mllib.regression import LabeledPoint\n",
    "\n",
    "# Chọn 2 cột: 2014 Population estimate làm features, 2015 median sales price làm label\n",
    "data_for_ml = data.select(\"2014 Population estimate\", \"2015 median sales price\") \\\n",
    "    .rdd \\\n",
    "    .map(lambda r: LabeledPoint(r[1], [r[0]])) \\\n",
    "    .toDF()\n",
    "\n",
    "display(data_for_ml)"
   ]
  },
  {
   "cell_type": "code",
   "execution_count": 31,
   "id": "0c57c94a-462e-4fe8-bc63-087a42f7c67c",
   "metadata": {},
   "outputs": [
    {
     "name": "stdout",
     "output_type": "stream",
     "text": [
      "Defaulting to user installation because normal site-packages is not writeable\n",
      "Collecting pandas\n",
      "  Downloading pandas-2.2.3-cp312-cp312-manylinux_2_17_x86_64.manylinux2014_x86_64.whl.metadata (89 kB)\n",
      "\u001b[2K     \u001b[38;2;114;156;31m━━━━━━━━━━━━━━━━━━━━━━━━━━━━━━━━━━━━━━━\u001b[0m \u001b[32m89.9/89.9 kB\u001b[0m \u001b[31m769.4 kB/s\u001b[0m eta \u001b[36m0:00:00\u001b[0mMB/s\u001b[0m eta \u001b[36m0:00:01\u001b[0m\n",
      "\u001b[?25hCollecting matplotlib\n",
      "  Downloading matplotlib-3.10.3-cp312-cp312-manylinux_2_17_x86_64.manylinux2014_x86_64.whl.metadata (11 kB)\n",
      "Collecting ggplot\n",
      "  Downloading ggplot-0.11.5-py2.py3-none-any.whl.metadata (2.9 kB)\n",
      "Requirement already satisfied: numpy>=1.26.0 in /home/haphuong/.local/lib/python3.12/site-packages (from pandas) (2.2.6)\n",
      "Requirement already satisfied: python-dateutil>=2.8.2 in /usr/lib/python3/dist-packages (from pandas) (2.8.2)\n",
      "Requirement already satisfied: pytz>=2020.1 in /usr/lib/python3/dist-packages (from pandas) (2024.1)\n",
      "Collecting tzdata>=2022.7 (from pandas)\n",
      "  Downloading tzdata-2025.2-py2.py3-none-any.whl.metadata (1.4 kB)\n",
      "Collecting contourpy>=1.0.1 (from matplotlib)\n",
      "  Downloading contourpy-1.3.2-cp312-cp312-manylinux_2_17_x86_64.manylinux2014_x86_64.whl.metadata (5.5 kB)\n",
      "Collecting cycler>=0.10 (from matplotlib)\n",
      "  Downloading cycler-0.12.1-py3-none-any.whl.metadata (3.8 kB)\n",
      "Collecting fonttools>=4.22.0 (from matplotlib)\n",
      "  Downloading fonttools-4.58.0-cp312-cp312-manylinux_2_5_x86_64.manylinux1_x86_64.manylinux_2_17_x86_64.manylinux2014_x86_64.whl.metadata (104 kB)\n",
      "\u001b[2K     \u001b[38;2;114;156;31m━━━━━━━━━━━━━━━━━━━━━━━━━━━━━━━━━━━━━━━\u001b[0m \u001b[32m104.5/104.5 kB\u001b[0m \u001b[31m1.3 MB/s\u001b[0m eta \u001b[36m0:00:00\u001b[0m[36m0:00:01\u001b[0m\n",
      "\u001b[?25hCollecting kiwisolver>=1.3.1 (from matplotlib)\n",
      "  Downloading kiwisolver-1.4.8-cp312-cp312-manylinux_2_17_x86_64.manylinux2014_x86_64.whl.metadata (6.2 kB)\n",
      "Requirement already satisfied: packaging>=20.0 in /home/haphuong/.local/lib/python3.12/site-packages (from matplotlib) (24.2)\n",
      "Requirement already satisfied: pillow>=8 in /usr/lib/python3/dist-packages (from matplotlib) (10.2.0)\n",
      "Requirement already satisfied: pyparsing>=2.3.1 in /usr/lib/python3/dist-packages (from matplotlib) (3.1.1)\n",
      "Collecting brewer2mpl (from ggplot)\n",
      "  Downloading brewer2mpl-1.4.1-py2.py3-none-any.whl.metadata (3.7 kB)\n",
      "Collecting patsy>=0.4 (from ggplot)\n",
      "  Downloading patsy-1.0.1-py2.py3-none-any.whl.metadata (3.3 kB)\n",
      "Collecting scipy (from ggplot)\n",
      "  Downloading scipy-1.15.3-cp312-cp312-manylinux_2_17_x86_64.manylinux2014_x86_64.whl.metadata (61 kB)\n",
      "\u001b[2K     \u001b[38;2;114;156;31m━━━━━━━━━━━━━━━━━━━━━━━━━━━━━━━━━━━━━━━━\u001b[0m \u001b[32m62.0/62.0 kB\u001b[0m \u001b[31m4.1 MB/s\u001b[0m eta \u001b[36m0:00:00\u001b[0m\n",
      "\u001b[?25hRequirement already satisfied: six in /usr/lib/python3/dist-packages (from ggplot) (1.16.0)\n",
      "Collecting statsmodels (from ggplot)\n",
      "  Downloading statsmodels-0.14.4-cp312-cp312-manylinux_2_17_x86_64.manylinux2014_x86_64.whl.metadata (9.2 kB)\n",
      "Downloading pandas-2.2.3-cp312-cp312-manylinux_2_17_x86_64.manylinux2014_x86_64.whl (12.7 MB)\n",
      "\u001b[2K   \u001b[38;2;114;156;31m━━━━━━━━━━━━━━━━━━━━━━━━━━━━━━━━━━━━━━━━\u001b[0m \u001b[32m12.7/12.7 MB\u001b[0m \u001b[31m1.1 MB/s\u001b[0m eta \u001b[36m0:00:00\u001b[0mm eta \u001b[36m0:00:01\u001b[0m[36m0:00:01\u001b[0m\n",
      "\u001b[?25hDownloading matplotlib-3.10.3-cp312-cp312-manylinux_2_17_x86_64.manylinux2014_x86_64.whl (8.6 MB)\n",
      "\u001b[2K   \u001b[38;2;114;156;31m━━━━━━━━━━━━━━━━━━━━━━━━━━━━━━━━━━━━━━━━\u001b[0m \u001b[32m8.6/8.6 MB\u001b[0m \u001b[31m1.1 MB/s\u001b[0m eta \u001b[36m0:00:00\u001b[0mm eta \u001b[36m0:00:01\u001b[0m[36m0:00:01\u001b[0m\n",
      "\u001b[?25hDownloading ggplot-0.11.5-py2.py3-none-any.whl (2.2 MB)\n",
      "\u001b[2K   \u001b[38;2;114;156;31m━━━━━━━━━━━━━━━━━━━━━━━━━━━━━━━━━━━━━━━━\u001b[0m \u001b[32m2.2/2.2 MB\u001b[0m \u001b[31m1.1 MB/s\u001b[0m eta \u001b[36m0:00:00\u001b[0mm eta \u001b[36m0:00:01\u001b[0m0:01\u001b[0m:01\u001b[0m\n",
      "\u001b[?25hDownloading contourpy-1.3.2-cp312-cp312-manylinux_2_17_x86_64.manylinux2014_x86_64.whl (323 kB)\n",
      "\u001b[2K   \u001b[38;2;114;156;31m━━━━━━━━━━━━━━━━━━━━━━━━━━━━━━━━━━━━━━━━\u001b[0m \u001b[32m323.7/323.7 kB\u001b[0m \u001b[31m1.1 MB/s\u001b[0m eta \u001b[36m0:00:00\u001b[0m[36m0:00:01\u001b[0m[36m0:00:01\u001b[0m:01\u001b[0m\n",
      "\u001b[?25hDownloading cycler-0.12.1-py3-none-any.whl (8.3 kB)\n",
      "Downloading fonttools-4.58.0-cp312-cp312-manylinux_2_5_x86_64.manylinux1_x86_64.manylinux_2_17_x86_64.manylinux2014_x86_64.whl (4.9 MB)\n",
      "\u001b[2K   \u001b[38;2;114;156;31m━━━━━━━━━━━━━━━━━━━━━━━━━━━━━━━━━━━━━━━━\u001b[0m \u001b[32m4.9/4.9 MB\u001b[0m \u001b[31m1.1 MB/s\u001b[0m eta \u001b[36m0:00:00\u001b[0mm eta \u001b[36m0:00:01\u001b[0m[36m0:00:01\u001b[0m0m\n",
      "\u001b[?25hDownloading kiwisolver-1.4.8-cp312-cp312-manylinux_2_17_x86_64.manylinux2014_x86_64.whl (1.5 MB)\n",
      "\u001b[2K   \u001b[38;2;114;156;31m━━━━━━━━━━━━━━━━━━━━━━━━━━━━━━━━━━━━━━━━\u001b[0m \u001b[32m1.5/1.5 MB\u001b[0m \u001b[31m1.1 MB/s\u001b[0m eta \u001b[36m0:00:00\u001b[0mm eta \u001b[36m0:00:01\u001b[0m0:01\u001b[0m:01\u001b[0m\n",
      "\u001b[?25hDownloading patsy-1.0.1-py2.py3-none-any.whl (232 kB)\n",
      "\u001b[2K   \u001b[38;2;114;156;31m━━━━━━━━━━━━━━━━━━━━━━━━━━━━━━━━━━━━━━━━\u001b[0m \u001b[32m232.9/232.9 kB\u001b[0m \u001b[31m1.0 MB/s\u001b[0m eta \u001b[36m0:00:00\u001b[0m[31m1.8 MB/s\u001b[0m eta \u001b[36m0:00:01\u001b[0m\n",
      "\u001b[?25hDownloading tzdata-2025.2-py2.py3-none-any.whl (347 kB)\n",
      "\u001b[2K   \u001b[38;2;114;156;31m━━━━━━━━━━━━━━━━━━━━━━━━━━━━━━━━━━━━━━━━\u001b[0m \u001b[32m347.8/347.8 kB\u001b[0m \u001b[31m1.1 MB/s\u001b[0m eta \u001b[36m0:00:00\u001b[0m[31m1.5 MB/s\u001b[0m eta \u001b[36m0:00:01\u001b[0m\n",
      "\u001b[?25hDownloading brewer2mpl-1.4.1-py2.py3-none-any.whl (24 kB)\n",
      "Downloading scipy-1.15.3-cp312-cp312-manylinux_2_17_x86_64.manylinux2014_x86_64.whl (37.3 MB)\n",
      "\u001b[2K   \u001b[38;2;114;156;31m━━━━━━━━━━━━━━━━━━━━━━━━━━━━━━━━━━━━━━━━\u001b[0m \u001b[32m37.3/37.3 MB\u001b[0m \u001b[31m1.1 MB/s\u001b[0m eta \u001b[36m0:00:00\u001b[0mm eta \u001b[36m0:00:01\u001b[0m[36m0:00:01\u001b[0m\n",
      "\u001b[?25hDownloading statsmodels-0.14.4-cp312-cp312-manylinux_2_17_x86_64.manylinux2014_x86_64.whl (10.7 MB)\n",
      "\u001b[2K   \u001b[38;2;114;156;31m━━━━━━━━━━━━━━━━━━━━━━━━━━━━━━━━━━━━━━━━\u001b[0m \u001b[32m10.7/10.7 MB\u001b[0m \u001b[31m978.4 kB/s\u001b[0m eta \u001b[36m0:00:00\u001b[0mm eta \u001b[36m0:00:01\u001b[0m[36m0:00:01\u001b[0m\n",
      "\u001b[?25hInstalling collected packages: brewer2mpl, tzdata, scipy, patsy, kiwisolver, fonttools, cycler, contourpy, pandas, matplotlib, statsmodels, ggplot\n",
      "Successfully installed brewer2mpl-1.4.1 contourpy-1.3.2 cycler-0.12.1 fonttools-4.58.0 ggplot-0.11.5 kiwisolver-1.4.8 matplotlib-3.10.3 pandas-2.2.3 patsy-1.0.1 scipy-1.15.3 statsmodels-0.14.4 tzdata-2025.2\n",
      "Note: you may need to restart the kernel to use updated packages.\n"
     ]
    }
   ],
   "source": [
    "pip install pandas matplotlib ggplot --break-system-packages"
   ]
  },
  {
   "cell_type": "code",
   "execution_count": 38,
   "id": "50ca4201-a286-434f-a7b6-19426021ad16",
   "metadata": {},
   "outputs": [
    {
     "data": {
      "image/png": "[encoded data removed]",
      "text/plain": [
       "<Figure size 1000x600 with 1 Axes>"
      ]
     },
     "metadata": {},
     "output_type": "display_data"
    }
   ],
   "source": [
    "import matplotlib.pyplot as plt\n",
    "\n",
    "# Lấy dữ liệu từ RDD\n",
    "x = data_for_ml.rdd.map(lambda p: p.features[0]).collect()\n",
    "y = data_for_ml.rdd.map(lambda p: p.label).collect()\n",
    "\n",
    "# Trực quan hoá bằng matplotlib\n",
    "plt.figure(figsize=(10,6))\n",
    "plt.scatter(x, y, color='blue')\n",
    "plt.xlabel(\"2014 Population Estimate\")\n",
    "plt.ylabel(\"2015 Median Sales Price\")\n",
    "plt.title(\"Mối quan hệ giữa dân số và giá nhà trung bình\")\n",
    "plt.grid(True)\n",
    "plt.show()"
   ]
  },
  {
   "cell_type": "markdown",
   "id": "c0c77bee-1324-4cbc-a384-eeb4c289c3f1",
   "metadata": {
    "jp-MarkdownHeadingCollapsed": true
   },
   "source": [
    "## Bài tập 2: Sử dụng mô hình hồi quy tuyến tính để dự báo kết quả giá bán"
   ]
  },
  {
   "cell_type": "code",
   "execution_count": 51,
   "id": "2bc27dbf-25ea-420c-8cbc-0054f18569e0",
   "metadata": {},
   "outputs": [],
   "source": [
    "from pyspark.ml.regression import LinearRegression\n",
    "\n",
    "lr = LinearRegression(featuresCol=\"features\", labelCol=\"label\")"
   ]
  },
  {
   "cell_type": "code",
   "execution_count": 52,
   "id": "f8096b53-d80f-448c-b188-fb7af0840332",
   "metadata": {},
   "outputs": [],
   "source": [
    "from pyspark.ml.feature import VectorAssembler\n",
    "from pyspark.sql.functions import col\n",
    "\n",
    "# Chọn cột làm features và label\n",
    "assembler = VectorAssembler(inputCols=[\"2014 Population estimate\"], outputCol=\"features\")\n",
    "\n",
    "data_ml = data.select(col(\"2015 median sales price\").alias(\"label\"), col(\"2014 Population estimate\"))\n",
    "data_ml = assembler.transform(data_ml).select(\"features\", \"label\")"
   ]
  },
  {
   "cell_type": "code",
   "execution_count": 53,
   "id": "d7a4d183-c76a-40ee-93ab-b3a18248fb5e",
   "metadata": {},
   "outputs": [
    {
     "name": "stderr",
     "output_type": "stream",
     "text": [
      "25/05/21 19:59:06 WARN Instrumentation: [64b77871] regParam is zero, which might cause numerical instability and overfitting.\n",
      "25/05/21 19:59:07 WARN InstanceBuilder: Failed to load implementation from:dev.ludovic.netlib.blas.JNIBLAS\n",
      "25/05/21 19:59:07 WARN InstanceBuilder: Failed to load implementation from:dev.ludovic.netlib.lapack.JNILAPACK\n"
     ]
    }
   ],
   "source": [
    "# Mô hình không có điều chỉnh (regParam=0.0)\n",
    "modelA = lr.fit(data_ml, params={lr.regParam: 0.0})\n",
    "\n",
    "# Mô hình có điều chỉnh mạnh (regParam=100.0)\n",
    "modelB = lr.fit(data_ml, params={lr.regParam: 100.0})"
   ]
  },
  {
   "cell_type": "code",
   "execution_count": 54,
   "id": "95539459-e62b-467e-8f63-f601215cc068",
   "metadata": {},
   "outputs": [
    {
     "name": "stdout",
     "output_type": "stream",
     "text": [
      ">>>> ModelA intercept: 191.29427575139394, coefficient: 3.779789682338248e-05\n",
      ">>>> ModelB intercept: 199.85112564667153, coefficient: 2.1603499483717156e-05\n"
     ]
    }
   ],
   "source": [
    "print(f\">>>> ModelA intercept: {modelA.intercept}, coefficient: {modelA.coefficients[0]}\")\n",
    "print(f\">>>> ModelB intercept: {modelB.intercept}, coefficient: {modelB.coefficients[0]}\")"
   ]
  },
  {
   "cell_type": "code",
   "execution_count": 55,
   "id": "33aec2ac-1ae6-48fa-97db-a3021a07f060",
   "metadata": {},
   "outputs": [
    {
     "data": {
      "text/plain": [
       "DataFrame[features: vector, label: double, prediction: double]"
      ]
     },
     "metadata": {},
     "output_type": "display_data"
    },
    {
     "data": {
      "text/plain": [
       "DataFrame[features: vector, label: double, prediction: double]"
      ]
     },
     "metadata": {},
     "output_type": "display_data"
    }
   ],
   "source": [
    "predictionsA = modelA.transform(data_ml)\n",
    "predictionsB = modelB.transform(data_ml)\n",
    "\n",
    "display(predictionsA)\n",
    "display(predictionsB)"
   ]
  },
  {
   "cell_type": "markdown",
   "id": "760eba01-721d-46d6-a460-74f7724b8b43",
   "metadata": {
    "jp-MarkdownHeadingCollapsed": true
   },
   "source": [
    "## Bài tập 3: Đánh giá mô hình dự đoán"
   ]
  },
  {
   "cell_type": "code",
   "execution_count": 56,
   "id": "79b56422-253b-4bc2-b9e4-3cabf39828bf",
   "metadata": {},
   "outputs": [],
   "source": [
    "from pyspark.ml.evaluation import RegressionEvaluator"
   ]
  },
  {
   "cell_type": "code",
   "execution_count": 59,
   "id": "20a5da66-e1c1-480f-9fad-99124629b701",
   "metadata": {},
   "outputs": [],
   "source": [
    "evaluator = RegressionEvaluator(metricName=\"rmse\", labelCol=\"label\", predictionCol=\"prediction\")"
   ]
  },
  {
   "cell_type": "code",
   "execution_count": 60,
   "id": "941f620d-1abf-48f9-93da-288b717cf07d",
   "metadata": {},
   "outputs": [
    {
     "name": "stdout",
     "output_type": "stream",
     "text": [
      "ModelA: Root Mean Squared Error = 128.60202684284758\n",
      "ModelB: Root Mean Squared Error = 129.49630019270606\n"
     ]
    }
   ],
   "source": [
    "RMSEA = evaluator.evaluate(predictionsA)\n",
    "print(\"ModelA: Root Mean Squared Error = \" + str(RMSEA))\n",
    "RMSEB = evaluator.evaluate(predictionsB)\n",
    "print(\"ModelB: Root Mean Squared Error = \" + str(RMSEB))"
   ]
  },
  {
   "cell_type": "markdown",
   "id": "8889ff23-2058-4e66-b87b-6e17dc550774",
   "metadata": {
    "jp-MarkdownHeadingCollapsed": true
   },
   "source": [
    "## Bài tập 4: Trực quan hóa kết quả"
   ]
  },
  {
   "cell_type": "code",
   "execution_count": 64,
   "id": "d6fe3340-9759-46ec-85e3-c2e06cfe4b52",
   "metadata": {},
   "outputs": [
    {
     "name": "stderr",
     "output_type": "stream",
     "text": [
      "                                                                                "
     ]
    }
   ],
   "source": [
    "import matplotlib.pyplot as plt\n",
    "\n",
    "# Giả sử data_ml, predictionsA, predictionsB đã có từ bài trước\n",
    "\n",
    "# Lấy dữ liệu từ dataframe PySpark sang list Python\n",
    "pop = data_ml.select(\"features\").rdd.map(lambda p: p[0][0]).collect()  # lấy feature đầu tiên (dân số)\n",
    "price = data_ml.select(\"label\").rdd.map(lambda p: p[0]).collect()     # giá gốc\n",
    "predA = predictionsA.select(\"prediction\").rdd.map(lambda r: r[0]).collect()\n",
    "predB = predictionsB.select(\"prediction\").rdd.map(lambda r: r[0]).collect()"
   ]
  },
  {
   "cell_type": "code",
   "execution_count": 65,
   "id": "d6c69be4-698c-4574-9154-bb9a185ddc48",
   "metadata": {},
   "outputs": [
    {
     "data": {
      "image/png": "[encoded data removed]",
      "text/plain": [
       "<Figure size 800x600 with 1 Axes>"
      ]
     },
     "metadata": {},
     "output_type": "display_data"
    }
   ],
   "source": [
    "plt.figure(figsize=(8,6))\n",
    "\n",
    "plt.scatter(pop, price, color='blue', label='Actual Price')\n",
    "plt.plot(pop, predA, color='red', label='Predictions Model A')\n",
    "plt.plot(pop, predB, color='green', label='Predictions Model B')\n",
    "\n",
    "plt.xscale('log')\n",
    "plt.yscale('log')\n",
    "\n",
    "plt.xlabel('2014 Population Estimate (log scale)')\n",
    "plt.ylabel('2015 Median Sales Price (log scale)')\n",
    "plt.title('Actual vs Predicted Prices')\n",
    "plt.legend()\n",
    "\n",
    "plt.show()"
   ]
  },
  {
   "cell_type": "markdown",
   "id": "41e895b4-9b11-49d0-8d71-6d28d54da764",
   "metadata": {
    "jp-MarkdownHeadingCollapsed": true
   },
   "source": [
    "#  TH6: Spark MLLib_2"
   ]
  },
  {
   "cell_type": "markdown",
   "id": "cc6c2387-e12e-44b7-874b-eccbaa755936",
   "metadata": {
    "jp-MarkdownHeadingCollapsed": true
   },
   "source": [
    "## SparkMLLib_DecisionTree"
   ]
  },
  {
   "cell_type": "code",
   "execution_count": 2,
   "id": "87ede09f-a2cd-48dc-9e9a-c4ef4538c5d6",
   "metadata": {},
   "outputs": [],
   "source": [
    "from pyspark.sql import SparkSession\n",
    "\n",
    "spark = SparkSession.builder.master(\"local[*]\").appName(\"SparkMLLib_DecisionTree\").getOrCreate()"
   ]
  },
  {
   "cell_type": "code",
   "execution_count": 7,
   "id": "710426a8-9599-45f4-8e5f-1b9c08d6a6d9",
   "metadata": {},
   "outputs": [
    {
     "name": "stderr",
     "output_type": "stream",
     "text": [
      "25/05/21 20:42:16 WARN LibSVMFileFormat: 'numFeatures' option not specified, determining the number of features by going though the input. If you know the number in advance, please specify it via 'numFeatures' option to avoid the extra scan.\n",
      "                                                                                "
     ]
    },
    {
     "name": "stdout",
     "output_type": "stream",
     "text": [
      "+-----+--------------------+\n",
      "|label|            features|\n",
      "+-----+--------------------+\n",
      "|  0.0|(692,[127,128,129...|\n",
      "|  1.0|(692,[158,159,160...|\n",
      "|  1.0|(692,[124,125,126...|\n",
      "|  1.0|(692,[152,153,154...|\n",
      "|  1.0|(692,[151,152,153...|\n",
      "|  0.0|(692,[129,130,131...|\n",
      "|  1.0|(692,[158,159,160...|\n",
      "|  1.0|(692,[99,100,101,...|\n",
      "|  0.0|(692,[154,155,156...|\n",
      "|  0.0|(692,[127,128,129...|\n",
      "|  1.0|(692,[154,155,156...|\n",
      "|  0.0|(692,[153,154,155...|\n",
      "|  0.0|(692,[151,152,153...|\n",
      "|  1.0|(692,[129,130,131...|\n",
      "|  0.0|(692,[154,155,156...|\n",
      "|  1.0|(692,[150,151,152...|\n",
      "|  0.0|(692,[124,125,126...|\n",
      "|  0.0|(692,[152,153,154...|\n",
      "|  1.0|(692,[97,98,99,12...|\n",
      "|  1.0|(692,[124,125,126...|\n",
      "+-----+--------------------+\n",
      "only showing top 20 rows\n",
      "\n"
     ]
    },
    {
     "data": {
      "text/plain": [
       "100"
      ]
     },
     "execution_count": 7,
     "metadata": {},
     "output_type": "execute_result"
    }
   ],
   "source": [
    "from __future__ import print_function\n",
    "\n",
    "from pyspark.ml import Pipeline\n",
    "from pyspark.ml.classification import DecisionTreeClassifier\n",
    "from pyspark.ml.feature import StringIndexer, VectorIndexer\n",
    "from pyspark.ml.evaluation import MulticlassClassificationEvaluator\n",
    "\n",
    "# Load the data stored in LIBSVM format as a DataFrame.\n",
    "data = spark.read.format(\"libsvm\").load(\"/home/haphuong/Downloads/spark-3.5.5-bin-hadoop3/data/mllib/sample_libsvm_data.txt\")\n",
    "\n",
    "data.show()\n",
    "\n",
    "data.count()"
   ]
  },
  {
   "cell_type": "code",
   "execution_count": 8,
   "id": "b92e188b-d0f1-41d9-9668-6a0b04977afd",
   "metadata": {},
   "outputs": [
    {
     "name": "stderr",
     "output_type": "stream",
     "text": [
      "                                                                                "
     ]
    }
   ],
   "source": [
    "# Index labels, adding metadata to the label column.\n",
    "# Fit on whole dataset to include all labels in index.\n",
    "labelIndexer = StringIndexer(inputCol=\"label\", outputCol=\"indexedLabel\").fit(data)\n",
    "\n",
    "# Automatically identify categorical features, and index them.\n",
    "# We specify maxCategories so features with > 4 distinct values are treated as continuous.\n",
    "featureIndexer = VectorIndexer(inputCol=\"features\", outputCol=\"indexedFeatures\", maxCategories=4).fit(data)"
   ]
  },
  {
   "cell_type": "code",
   "execution_count": 9,
   "id": "45ba6080-2c54-4892-9595-359d43190078",
   "metadata": {},
   "outputs": [
    {
     "name": "stdout",
     "output_type": "stream",
     "text": [
      "+-----+--------------------+\n",
      "|label|            features|\n",
      "+-----+--------------------+\n",
      "|  0.0|(692,[127,128,129...|\n",
      "|  1.0|(692,[158,159,160...|\n",
      "|  1.0|(692,[124,125,126...|\n",
      "|  1.0|(692,[152,153,154...|\n",
      "|  1.0|(692,[151,152,153...|\n",
      "|  0.0|(692,[129,130,131...|\n",
      "|  1.0|(692,[158,159,160...|\n",
      "|  1.0|(692,[99,100,101,...|\n",
      "|  0.0|(692,[154,155,156...|\n",
      "|  0.0|(692,[127,128,129...|\n",
      "|  1.0|(692,[154,155,156...|\n",
      "|  0.0|(692,[153,154,155...|\n",
      "|  0.0|(692,[151,152,153...|\n",
      "|  1.0|(692,[129,130,131...|\n",
      "|  0.0|(692,[154,155,156...|\n",
      "|  1.0|(692,[150,151,152...|\n",
      "|  0.0|(692,[124,125,126...|\n",
      "|  0.0|(692,[152,153,154...|\n",
      "|  1.0|(692,[97,98,99,12...|\n",
      "|  1.0|(692,[124,125,126...|\n",
      "+-----+--------------------+\n",
      "only showing top 20 rows\n",
      "\n"
     ]
    },
    {
     "data": {
      "text/plain": [
       "100"
      ]
     },
     "execution_count": 9,
     "metadata": {},
     "output_type": "execute_result"
    }
   ],
   "source": [
    "data.show()\n",
    "\n",
    "data.count()"
   ]
  },
  {
   "cell_type": "code",
   "execution_count": 10,
   "id": "356b60ca-10b5-4c9c-a800-bc27daf19201",
   "metadata": {},
   "outputs": [
    {
     "name": "stderr",
     "output_type": "stream",
     "text": [
      "                                                                                "
     ]
    }
   ],
   "source": [
    "# Split the data into training and test sets (30% held out for testing)\n",
    "(trainingData, testData) = data.randomSplit([0.7, 0.3])\n",
    "\n",
    "# Train a DecisionTree model.\n",
    "dt = DecisionTreeClassifier(labelCol=\"indexedLabel\", featuresCol=\"indexedFeatures\")\n",
    "\n",
    "# Chain indexers and tree in a Pipeline\n",
    "pipeline = Pipeline(stages=[labelIndexer, featureIndexer, dt])\n",
    "\n",
    "# Train model.  This also runs the indexers.\n",
    "model = pipeline.fit(trainingData)"
   ]
  },
  {
   "cell_type": "code",
   "execution_count": 11,
   "id": "c714a7f3-3a57-4733-b58d-1786ade71c6a",
   "metadata": {},
   "outputs": [
    {
     "name": "stdout",
     "output_type": "stream",
     "text": [
      "+----------+------------+--------------------+\n",
      "|prediction|indexedLabel|            features|\n",
      "+----------+------------+--------------------+\n",
      "|       1.0|         1.0|(692,[98,99,100,1...|\n",
      "|       1.0|         1.0|(692,[122,123,124...|\n",
      "|       1.0|         1.0|(692,[122,123,148...|\n",
      "|       1.0|         1.0|(692,[123,124,125...|\n",
      "|       1.0|         1.0|(692,[123,124,125...|\n",
      "|       1.0|         1.0|(692,[124,125,126...|\n",
      "|       1.0|         1.0|(692,[124,125,126...|\n",
      "|       1.0|         1.0|(692,[125,126,127...|\n",
      "|       1.0|         1.0|(692,[126,127,128...|\n",
      "|       1.0|         1.0|(692,[126,127,128...|\n",
      "|       1.0|         1.0|(692,[128,129,130...|\n",
      "|       1.0|         1.0|(692,[129,130,131...|\n",
      "|       1.0|         1.0|(692,[153,154,155...|\n",
      "|       1.0|         1.0|(692,[153,154,155...|\n",
      "|       0.0|         1.0|(692,[154,155,156...|\n",
      "|       1.0|         1.0|(692,[155,156,180...|\n",
      "|       0.0|         0.0|(692,[97,98,99,12...|\n",
      "|       0.0|         0.0|(692,[100,101,102...|\n",
      "|       0.0|         0.0|(692,[124,125,126...|\n",
      "|       0.0|         0.0|(692,[125,126,127...|\n",
      "+----------+------------+--------------------+\n",
      "only showing top 20 rows\n",
      "\n",
      "Test Error = 0.0645161 \n"
     ]
    }
   ],
   "source": [
    "# Make predictions.\n",
    "predictions = model.transform(testData)\n",
    "\n",
    "# Select example rows to display.\n",
    "predictions.select(\"prediction\", \"indexedLabel\", \"features\").show()\n",
    "\n",
    "# Select (prediction, true label) and compute test error\n",
    "evaluator = MulticlassClassificationEvaluator(labelCol=\"indexedLabel\", predictionCol=\"prediction\", metricName=\"accuracy\")\n",
    "accuracy = evaluator.evaluate(predictions)\n",
    "print(\"Test Error = %g \" % (1.0 - accuracy))"
   ]
  },
  {
   "cell_type": "markdown",
   "id": "b340e7c2-fc41-4e46-8380-0601baf15a26",
   "metadata": {
    "jp-MarkdownHeadingCollapsed": true
   },
   "source": [
    "## SparkMLLib_KMeans"
   ]
  },
  {
   "cell_type": "code",
   "execution_count": 12,
   "id": "820e2a81-5308-40ea-a2c1-98132799a73a",
   "metadata": {},
   "outputs": [
    {
     "name": "stderr",
     "output_type": "stream",
     "text": [
      "25/05/21 20:45:18 WARN SparkSession: Using an existing Spark session; only runtime SQL configurations will take effect.\n"
     ]
    }
   ],
   "source": [
    "from pyspark.sql import SparkSession\n",
    "\n",
    "spark = SparkSession.builder.master(\"local[*]\").appName(\"SparkMLLib_KMeans\").getOrCreate()"
   ]
  },
  {
   "cell_type": "code",
   "execution_count": 13,
   "id": "80f4a7f8-a8f0-42d5-8a69-9ef2d6a16910",
   "metadata": {},
   "outputs": [
    {
     "name": "stderr",
     "output_type": "stream",
     "text": [
      "25/05/21 20:46:10 WARN LibSVMFileFormat: 'numFeatures' option not specified, determining the number of features by going though the input. If you know the number in advance, please specify it via 'numFeatures' option to avoid the extra scan.\n"
     ]
    },
    {
     "name": "stdout",
     "output_type": "stream",
     "text": [
      "+-----+--------------------+\n",
      "|label|            features|\n",
      "+-----+--------------------+\n",
      "|  0.0|(692,[127,128,129...|\n",
      "|  1.0|(692,[158,159,160...|\n",
      "|  1.0|(692,[124,125,126...|\n",
      "|  1.0|(692,[152,153,154...|\n",
      "|  1.0|(692,[151,152,153...|\n",
      "|  0.0|(692,[129,130,131...|\n",
      "|  1.0|(692,[158,159,160...|\n",
      "|  1.0|(692,[99,100,101,...|\n",
      "|  0.0|(692,[154,155,156...|\n",
      "|  0.0|(692,[127,128,129...|\n",
      "|  1.0|(692,[154,155,156...|\n",
      "|  0.0|(692,[153,154,155...|\n",
      "|  0.0|(692,[151,152,153...|\n",
      "|  1.0|(692,[129,130,131...|\n",
      "|  0.0|(692,[154,155,156...|\n",
      "|  1.0|(692,[150,151,152...|\n",
      "|  0.0|(692,[124,125,126...|\n",
      "|  0.0|(692,[152,153,154...|\n",
      "|  1.0|(692,[97,98,99,12...|\n",
      "|  1.0|(692,[124,125,126...|\n",
      "+-----+--------------------+\n",
      "only showing top 20 rows\n",
      "\n"
     ]
    },
    {
     "data": {
      "text/plain": [
       "100"
      ]
     },
     "execution_count": 13,
     "metadata": {},
     "output_type": "execute_result"
    }
   ],
   "source": [
    "from pyspark.ml.clustering import KMeans\n",
    "from pyspark.ml.evaluation import ClusteringEvaluator\n",
    "\n",
    "# Loads data.\n",
    "dataset = spark.read.format(\"libsvm\").load(\"/home/haphuong/Downloads/spark-3.5.5-bin-hadoop3/data/mllib/sample_libsvm_data.txt\")\n",
    "\n",
    "dataset.show()\n",
    "\n",
    "dataset.count()"
   ]
  },
  {
   "cell_type": "code",
   "execution_count": 14,
   "id": "1fd241f0-e59f-4a52-86e4-a736b67f1630",
   "metadata": {},
   "outputs": [
    {
     "name": "stderr",
     "output_type": "stream",
     "text": [
      "25/05/21 20:46:25 WARN InstanceBuilder: Failed to load implementation from:dev.ludovic.netlib.blas.JNIBLAS\n",
      "                                                                                "
     ]
    }
   ],
   "source": [
    "# Trains a k-means model.\n",
    "kmeans = KMeans().setK(2).setSeed(1)\n",
    "model = kmeans.fit(dataset)"
   ]
  },
  {
   "cell_type": "code",
   "execution_count": 15,
   "id": "6b9ba635-88d9-4861-aea8-211627a98fbe",
   "metadata": {},
   "outputs": [
    {
     "name": "stdout",
     "output_type": "stream",
     "text": [
      "Silhouette with squared euclidean distance = 0.4832019606219527\n"
     ]
    }
   ],
   "source": [
    "# Make predictions\n",
    "predictions = model.transform(dataset)\n",
    "\n",
    "# Evaluate clustering by computing Silhouette score\n",
    "evaluator = ClusteringEvaluator()\n",
    "\n",
    "silhouette = evaluator.evaluate(predictions)\n",
    "print(\"Silhouette with squared euclidean distance = \" + str(silhouette))"
   ]
  },
  {
   "cell_type": "code",
   "execution_count": 16,
   "id": "ae84f8fa-8a84-4498-934f-3dda28c8377f",
   "metadata": {},
   "outputs": [
    {
     "name": "stdout",
     "output_type": "stream",
     "text": [
      "Cluster Centers: \n",
      "[  0.           0.           0.           0.           0.\n",
      "   0.           0.           0.           0.           0.\n",
      "   0.           0.           0.           0.           0.\n",
      "   0.           0.           0.           0.           0.\n",
      "   0.           0.           0.           0.           0.\n",
      "   0.           0.           0.           0.           0.\n",
      "   0.           0.           0.           0.           0.\n",
      "   0.           0.           0.           0.           0.\n",
      "   0.           0.           0.           0.           0.\n",
      "   0.           0.           0.           0.           0.\n",
      "   0.           0.           0.           0.           0.\n",
      "   0.           0.           0.           0.           0.\n",
      "   0.           0.           0.           0.           0.\n",
      "   0.           0.           0.           0.           0.\n",
      "   0.           0.           0.           0.           0.\n",
      "   0.           0.           0.           0.           0.\n",
      "   0.           0.           0.           0.           0.\n",
      "   0.           0.           0.           0.           0.\n",
      "   0.           0.           0.           0.           0.\n",
      "   1.36585366   6.02439024   2.95121951   1.70731707   6.2195122\n",
      "   4.02439024   2.7804878    0.           0.           0.\n",
      "   0.           0.           0.           0.           0.\n",
      "   0.           0.           0.           0.           0.\n",
      "   0.           0.           0.           0.           0.\n",
      "   0.           1.53658537   5.92682927  13.04878049  43.68292683\n",
      "  65.19512195  76.56097561  91.14634146  97.29268293  92.75609756\n",
      "  65.43902439  25.41463415   6.80487805   1.92682927   0.\n",
      "   0.           0.           0.           0.           0.\n",
      "   0.           0.           0.           0.           0.\n",
      "   0.           0.           0.           1.73170732   8.41463415\n",
      "  25.73170732  55.87804878  88.         123.2195122  166.43902439\n",
      " 195.51219512 192.31707317 173.3902439  142.36585366 100.53658537\n",
      "  48.07317073  18.09756098   3.46341463   2.07317073   0.34146341\n",
      "   0.           0.           0.           0.           0.\n",
      "   0.           0.           0.           0.           0.\n",
      "   4.2195122   13.68292683  34.07317073  69.56097561  87.07317073\n",
      " 129.95121951 171.70731707 205.19512195 224.02439024 219.26829268\n",
      " 199.92682927 188.70731707 152.85365854  96.12195122  43.2195122\n",
      "  13.70731707   6.09756098   3.56097561   0.           0.\n",
      "   0.           0.           0.           0.           0.\n",
      "   0.           0.           3.19512195  16.07317073  36.29268293\n",
      "  62.19512195  87.3902439  125.87804878 167.09756098 211.80487805\n",
      " 211.26829268 202.14634146 211.90243902 223.43902439 208.58536585\n",
      " 205.58536585 159.31707317  78.90243902  21.31707317   7.02439024\n",
      "   6.09756098   0.           0.           0.           0.\n",
      "   0.           0.           0.           0.           0.56097561\n",
      "  11.73170732  28.92682927  60.95121951  83.19512195 129.09756098\n",
      " 167.         187.12195122 198.68292683 171.6097561  147.\n",
      " 149.19512195 183.85365854 187.65853659 209.48780488 189.75609756\n",
      " 122.36585366  48.24390244  15.65853659   6.41463415   0.\n",
      "   0.           0.           0.           0.           0.\n",
      "   0.           0.           4.70731707  23.34146341  42.65853659\n",
      "  77.80487805 111.87804878 150.63414634 190.07317073 173.53658537\n",
      " 156.07317073 125.41463415  93.31707317  91.09756098 110.51219512\n",
      " 134.29268293 179.65853659 196.3902439  148.85365854  89.56097561\n",
      "  26.87804878   9.95121951   0.           0.           0.\n",
      "   0.           0.           0.           0.           0.\n",
      "   7.87804878  34.80487805  63.65853659  96.26829268 142.63414634\n",
      " 167.63414634 165.02439024 150.12195122 120.          89.26829268\n",
      "  55.46341463  50.82926829  66.87804878  91.92682927 142.36585366\n",
      " 191.04878049 161.80487805 112.92682927  48.          14.90243902\n",
      "   0.           0.           0.           0.           0.\n",
      "   0.           0.           0.          20.85365854  55.7804878\n",
      "  84.7804878  114.90243902 158.31707317 155.48780488 147.12195122\n",
      " 122.43902439  80.87804878  47.63414634  26.63414634  25.24390244\n",
      "  37.14634146  64.65853659 104.41463415 162.2195122  160.14634146\n",
      " 133.12195122  72.65853659  23.73170732   0.           0.\n",
      "   0.           0.           0.           0.           0.\n",
      "   0.          33.3902439   72.43902439 101.19512195 144.75609756\n",
      " 177.95121951 150.14634146 120.02439024  84.51219512  50.48780488\n",
      "  22.70731707  11.6097561   11.87804878  26.97560976  53.95121951\n",
      "  81.51219512 149.87804878 158.12195122 143.04878049  91.48780488\n",
      "  32.65853659   0.           0.           0.           0.\n",
      "   0.           0.           0.           0.          36.87804878\n",
      "  89.24390244 126.58536585 161.82926829 173.14634146 130.\n",
      "  91.04878049  61.87804878  22.87804878   8.7804878    6.68292683\n",
      "   3.34146341  16.43902439  56.53658537  79.12195122 143.51219512\n",
      " 162.24390244 152.09756098  93.75609756  37.36585366   0.\n",
      "   0.           0.           0.           0.           0.\n",
      "   0.           0.46341463  46.31707317 107.82926829 147.07317073\n",
      " 174.02439024 152.04878049  98.17073171  63.51219512  25.58536585\n",
      "   6.73170732   2.24390244   1.73170732   0.24390244  16.09756098\n",
      "  46.19512195  89.14634146 139.31707317 157.87804878 135.53658537\n",
      "  93.53658537  41.           0.           0.           0.\n",
      "   0.           0.           0.           0.           0.82926829\n",
      "  66.36585366 129.48780488 162.19512195 184.87804878 145.04878049\n",
      "  82.97560976  30.19512195   7.           0.           0.\n",
      "   0.           0.          14.6097561   45.95121951  97.51219512\n",
      " 147.58536585 147.85365854 123.48780488  87.2195122   36.51219512\n",
      "   0.           0.           0.           0.           0.\n",
      "   0.           0.           1.29268293  80.46341463 139.95121951\n",
      " 179.36585366 183.02439024 129.31707317  66.63414634  21.2195122\n",
      "   6.34146341   0.           0.           0.           2.04878049\n",
      "  13.80487805  62.3902439  114.68292683 150.29268293 149.29268293\n",
      " 100.51219512  76.36585366  33.73170732   0.           0.\n",
      "   0.           0.           0.           0.           0.\n",
      "   6.65853659  84.12195122 144.29268293 186.97560976 178.90243902\n",
      " 130.31707317  55.7804878   19.04878049   9.09756098   0.26829268\n",
      "   0.75609756   2.46341463  13.70731707  33.97560976  90.70731707\n",
      " 137.75609756 161.41463415 130.95121951  87.2195122   67.02439024\n",
      "  26.87804878   0.           0.           0.           0.\n",
      "   0.           0.           0.           6.73170732  74.97560976\n",
      " 135.24390244 193.87804878 188.7804878  132.17073171  54.68292683\n",
      "  17.36585366   9.63414634   5.14634146   8.17073171  15.82926829\n",
      "  36.70731707  88.02439024 132.41463415 156.56097561 145.7804878\n",
      "  99.34146341  73.92682927  48.24390244  16.14634146   0.\n",
      "   0.           0.           0.           0.           0.\n",
      "   0.           4.46341463  56.26829268 123.7804878  186.3902439\n",
      " 207.36585366 163.29268293  95.6097561   50.56097561  26.24390244\n",
      "  23.02439024  34.02439024  51.53658537  89.3902439  139.04878049\n",
      " 161.07317073 160.7804878  117.51219512  90.56097561  57.80487805\n",
      "  33.58536585   6.17073171   0.           0.           0.\n",
      "   0.           0.           0.           0.           2.48780488\n",
      "  31.75609756  98.70731707 160.58536585 210.12195122 197.31707317\n",
      " 156.07317073 120.46341463 105.73170732 113.41463415 115.7804878\n",
      " 135.92682927 155.75609756 175.70731707 162.36585366 125.04878049\n",
      " 100.09756098  66.7804878   43.36585366  14.87804878   0.\n",
      "   0.           0.           0.           0.           0.\n",
      "   0.           0.           1.7804878   13.46341463  57.14634146\n",
      " 132.46341463 191.41463415 224.75609756 217.48780488 193.51219512\n",
      " 187.63414634 181.29268293 185.97560976 196.43902439 197.43902439\n",
      " 177.17073171 141.87804878  95.17073171  70.41463415  46.\n",
      "  21.14634146   1.65853659   0.           0.           0.\n",
      "   0.           0.           0.           0.           0.\n",
      "   1.51219512   7.75609756  22.48780488  68.82926829 135.82926829\n",
      " 191.82926829 226.53658537 232.         222.97560976 223.82926829\n",
      " 216.70731707 201.90243902 175.17073171 130.73170732  89.09756098\n",
      "  65.65853659  42.26829268  18.29268293   4.07317073   0.\n",
      "   0.           0.           0.           0.           0.\n",
      "   0.           0.           0.           0.           2.02439024\n",
      "   8.68292683  22.          52.41463415 106.7804878  154.75609756\n",
      " 183.82926829 190.26829268 175.82926829 163.70731707 117.68292683\n",
      "  83.29268293  64.75609756  43.26829268  27.46341463  11.02439024\n",
      "   2.34146341   0.24390244   0.           0.           0.\n",
      "   0.           0.           0.           0.           0.\n",
      "   0.           0.           0.           1.87804878  11.95121951\n",
      "  12.63414634  18.36585366  26.34146341  43.48780488  49.95121951\n",
      "  49.92682927  47.92682927  33.80487805  20.14634146  16.\n",
      "   8.90243902   2.65853659]\n",
      "[0.00000000e+00 0.00000000e+00 0.00000000e+00 0.00000000e+00\n",
      " 0.00000000e+00 0.00000000e+00 0.00000000e+00 0.00000000e+00\n",
      " 0.00000000e+00 0.00000000e+00 0.00000000e+00 0.00000000e+00\n",
      " 0.00000000e+00 0.00000000e+00 0.00000000e+00 0.00000000e+00\n",
      " 0.00000000e+00 0.00000000e+00 0.00000000e+00 0.00000000e+00\n",
      " 0.00000000e+00 0.00000000e+00 0.00000000e+00 0.00000000e+00\n",
      " 0.00000000e+00 0.00000000e+00 0.00000000e+00 0.00000000e+00\n",
      " 0.00000000e+00 0.00000000e+00 0.00000000e+00 0.00000000e+00\n",
      " 0.00000000e+00 0.00000000e+00 0.00000000e+00 0.00000000e+00\n",
      " 0.00000000e+00 0.00000000e+00 0.00000000e+00 0.00000000e+00\n",
      " 0.00000000e+00 0.00000000e+00 0.00000000e+00 0.00000000e+00\n",
      " 0.00000000e+00 0.00000000e+00 0.00000000e+00 0.00000000e+00\n",
      " 0.00000000e+00 0.00000000e+00 0.00000000e+00 0.00000000e+00\n",
      " 0.00000000e+00 0.00000000e+00 0.00000000e+00 0.00000000e+00\n",
      " 0.00000000e+00 0.00000000e+00 0.00000000e+00 0.00000000e+00\n",
      " 0.00000000e+00 0.00000000e+00 0.00000000e+00 0.00000000e+00\n",
      " 0.00000000e+00 0.00000000e+00 0.00000000e+00 0.00000000e+00\n",
      " 0.00000000e+00 0.00000000e+00 0.00000000e+00 0.00000000e+00\n",
      " 0.00000000e+00 0.00000000e+00 0.00000000e+00 0.00000000e+00\n",
      " 0.00000000e+00 0.00000000e+00 0.00000000e+00 0.00000000e+00\n",
      " 0.00000000e+00 0.00000000e+00 0.00000000e+00 0.00000000e+00\n",
      " 0.00000000e+00 0.00000000e+00 0.00000000e+00 0.00000000e+00\n",
      " 0.00000000e+00 0.00000000e+00 0.00000000e+00 0.00000000e+00\n",
      " 0.00000000e+00 0.00000000e+00 0.00000000e+00 0.00000000e+00\n",
      " 0.00000000e+00 1.08474576e+00 3.23728814e+00 4.00000000e+00\n",
      " 5.44067797e+00 5.62711864e+00 1.30508475e+00 0.00000000e+00\n",
      " 0.00000000e+00 0.00000000e+00 0.00000000e+00 0.00000000e+00\n",
      " 0.00000000e+00 0.00000000e+00 0.00000000e+00 0.00000000e+00\n",
      " 0.00000000e+00 0.00000000e+00 0.00000000e+00 0.00000000e+00\n",
      " 0.00000000e+00 0.00000000e+00 0.00000000e+00 1.44067797e+00\n",
      " 4.28813559e+00 2.23728814e+00 1.52542373e-01 6.37288136e+00\n",
      " 2.70508475e+01 3.81864407e+01 4.42203390e+01 4.54406780e+01\n",
      " 4.99830508e+01 6.79491525e+01 5.38474576e+01 3.49830508e+01\n",
      " 1.00338983e+01 0.00000000e+00 0.00000000e+00 0.00000000e+00\n",
      " 0.00000000e+00 0.00000000e+00 0.00000000e+00 0.00000000e+00\n",
      " 0.00000000e+00 0.00000000e+00 0.00000000e+00 0.00000000e+00\n",
      " 0.00000000e+00 0.00000000e+00 1.38983051e+00 4.08474576e+00\n",
      " 4.25423729e+00 4.25423729e+00 3.32203390e+00 1.07796610e+01\n",
      " 4.56271186e+01 6.43050847e+01 6.98305085e+01 8.10508475e+01\n",
      " 8.98644068e+01 1.03593220e+02 8.00677966e+01 6.43728814e+01\n",
      " 2.28983051e+01 3.83050847e+00 0.00000000e+00 0.00000000e+00\n",
      " 0.00000000e+00 0.00000000e+00 0.00000000e+00 0.00000000e+00\n",
      " 0.00000000e+00 0.00000000e+00 0.00000000e+00 0.00000000e+00\n",
      " 0.00000000e+00 0.00000000e+00 2.96610169e+00 4.25423729e+00\n",
      " 4.25423729e+00 4.25423729e+00 5.38983051e+00 1.88644068e+01\n",
      " 4.68135593e+01 6.67288136e+01 8.57627119e+01 9.58305085e+01\n",
      " 1.17000000e+02 1.13915254e+02 9.46440678e+01 6.68813559e+01\n",
      " 2.17118644e+01 6.38983051e+00 1.35593220e-01 0.00000000e+00\n",
      " 0.00000000e+00 0.00000000e+00 0.00000000e+00 0.00000000e+00\n",
      " 0.00000000e+00 0.00000000e+00 0.00000000e+00 0.00000000e+00\n",
      " 0.00000000e+00 0.00000000e+00 2.20338983e-01 3.45762712e+00\n",
      " 4.25423729e+00 5.49152542e+00 8.25423729e+00 2.11864407e+01\n",
      " 4.88644068e+01 6.82033898e+01 9.90169492e+01 1.09135593e+02\n",
      " 1.32728814e+02 1.13644068e+02 9.69830508e+01 6.15084746e+01\n",
      " 2.01694915e+01 7.18644068e+00 1.15254237e+00 0.00000000e+00\n",
      " 0.00000000e+00 0.00000000e+00 0.00000000e+00 0.00000000e+00\n",
      " 0.00000000e+00 0.00000000e+00 0.00000000e+00 0.00000000e+00\n",
      " 0.00000000e+00 0.00000000e+00 0.00000000e+00 6.61016949e-01\n",
      " 4.25423729e+00 7.33898305e+00 1.02711864e+01 2.19661017e+01\n",
      " 4.75593220e+01 7.42203390e+01 1.17033898e+02 1.40932203e+02\n",
      " 1.42644068e+02 1.17305085e+02 9.31864407e+01 4.54237288e+01\n",
      " 9.94915254e+00 3.49152542e+00 1.69491525e+00 0.00000000e+00\n",
      " 0.00000000e+00 0.00000000e+00 0.00000000e+00 0.00000000e+00\n",
      " 0.00000000e+00 0.00000000e+00 0.00000000e+00 0.00000000e+00\n",
      " 0.00000000e+00 0.00000000e+00 0.00000000e+00 2.54237288e-01\n",
      " 2.89830508e+00 9.71186441e+00 1.90000000e+01 2.53220339e+01\n",
      " 4.70677966e+01 7.94237288e+01 1.39745763e+02 1.59423729e+02\n",
      " 1.50779661e+02 1.09694915e+02 7.64745763e+01 2.98135593e+01\n",
      " 7.16949153e+00 2.77966102e+00 1.15254237e+00 0.00000000e+00\n",
      " 0.00000000e+00 0.00000000e+00 0.00000000e+00 0.00000000e+00\n",
      " 0.00000000e+00 0.00000000e+00 0.00000000e+00 0.00000000e+00\n",
      " 0.00000000e+00 0.00000000e+00 0.00000000e+00 3.55932203e-01\n",
      " 5.49152542e+00 1.13220339e+01 1.48474576e+01 1.84576271e+01\n",
      " 4.20000000e+01 9.02711864e+01 1.67728814e+02 1.84661017e+02\n",
      " 1.48644068e+02 9.50847458e+01 4.59661017e+01 1.57627119e+01\n",
      " 1.72881356e+00 3.89830508e+00 4.30508475e+00 3.15254237e+00\n",
      " 2.37288136e-01 0.00000000e+00 0.00000000e+00 0.00000000e+00\n",
      " 0.00000000e+00 0.00000000e+00 0.00000000e+00 0.00000000e+00\n",
      " 0.00000000e+00 0.00000000e+00 1.49152542e+00 7.27118644e+00\n",
      " 1.00677966e+01 8.91525424e+00 1.48474576e+01 1.60169492e+01\n",
      " 3.42881356e+01 1.07779661e+02 1.92728814e+02 1.99152542e+02\n",
      " 1.37423729e+02 8.20000000e+01 2.88135593e+01 6.64406780e+00\n",
      " 0.00000000e+00 5.59322034e-01 3.03389831e+00 4.28813559e+00\n",
      " 2.37288136e+00 0.00000000e+00 0.00000000e+00 0.00000000e+00\n",
      " 0.00000000e+00 0.00000000e+00 0.00000000e+00 0.00000000e+00\n",
      " 0.00000000e+00 7.96610169e-01 7.18644068e+00 1.13220339e+01\n",
      " 8.06779661e+00 5.91525424e+00 1.02711864e+01 1.06949153e+01\n",
      " 3.54745763e+01 1.26576271e+02 2.15372881e+02 2.04949153e+02\n",
      " 1.31237288e+02 6.17966102e+01 1.29830508e+01 4.28813559e+00\n",
      " 0.00000000e+00 0.00000000e+00 4.06779661e-01 3.54237288e+00\n",
      " 3.77966102e+00 0.00000000e+00 0.00000000e+00 0.00000000e+00\n",
      " 0.00000000e+00 0.00000000e+00 0.00000000e+00 0.00000000e+00\n",
      " 0.00000000e+00 3.86440678e+00 8.54237288e+00 4.23728814e+00\n",
      " 9.83050847e-01 1.13559322e+00 4.91525424e+00 5.00000000e+00\n",
      " 4.05762712e+01 1.73440678e+02 2.31186441e+02 2.06271186e+02\n",
      " 1.15338983e+02 3.45084746e+01 6.22033898e+00 3.91525424e+00\n",
      " 0.00000000e+00 0.00000000e+00 0.00000000e+00 2.30508475e+00\n",
      " 4.28813559e+00 0.00000000e+00 0.00000000e+00 0.00000000e+00\n",
      " 0.00000000e+00 0.00000000e+00 0.00000000e+00 0.00000000e+00\n",
      " 0.00000000e+00 6.13559322e+00 4.32203390e+00 2.54237288e-01\n",
      " 0.00000000e+00 1.66101695e+00 4.30508475e+00 4.30508475e+00\n",
      " 6.03050847e+01 2.01186441e+02 2.34288136e+02 1.97355932e+02\n",
      " 7.91525424e+01 2.22372881e+01 2.81355932e+00 2.62711864e+00\n",
      " 0.00000000e+00 0.00000000e+00 0.00000000e+00 2.30508475e+00\n",
      " 3.64406780e+00 0.00000000e+00 0.00000000e+00 0.00000000e+00\n",
      " 0.00000000e+00 0.00000000e+00 0.00000000e+00 0.00000000e+00\n",
      " 0.00000000e+00 4.32203390e+00 1.40677966e+00 9.32203390e-01\n",
      " 0.00000000e+00 1.66101695e+00 4.69491525e+00 1.28983051e+01\n",
      " 1.00898305e+02 2.17796610e+02 2.34033898e+02 1.65915254e+02\n",
      " 4.85762712e+01 1.07796610e+01 4.03389831e+00 2.62711864e+00\n",
      " 0.00000000e+00 8.47457627e-02 2.15254237e+00 4.16949153e+00\n",
      " 2.25423729e+00 0.00000000e+00 0.00000000e+00 0.00000000e+00\n",
      " 0.00000000e+00 0.00000000e+00 0.00000000e+00 0.00000000e+00\n",
      " 0.00000000e+00 4.55932203e+00 2.47457627e+00 3.89830508e-01\n",
      " 0.00000000e+00 1.66101695e+00 9.79661017e+00 4.16271186e+01\n",
      " 1.24406780e+02 2.14203390e+02 2.23237288e+02 1.34322034e+02\n",
      " 3.65593220e+01 5.96610169e+00 7.71186441e+00 5.47457627e+00\n",
      " 2.88135593e-01 2.54237288e+00 4.18644068e+00 1.54237288e+00\n",
      " 1.52542373e-01 0.00000000e+00 0.00000000e+00 0.00000000e+00\n",
      " 0.00000000e+00 0.00000000e+00 0.00000000e+00 0.00000000e+00\n",
      " 0.00000000e+00 5.27118644e+00 4.20338983e+00 0.00000000e+00\n",
      " 0.00000000e+00 2.45762712e+00 2.50000000e+01 7.55932203e+01\n",
      " 1.36271186e+02 2.11983051e+02 1.96949153e+02 1.05457627e+02\n",
      " 3.19322034e+01 7.22033898e+00 1.15593220e+01 1.06779661e+01\n",
      " 5.76271186e+00 3.66101695e+00 1.42372881e+00 0.00000000e+00\n",
      " 0.00000000e+00 0.00000000e+00 0.00000000e+00 0.00000000e+00\n",
      " 0.00000000e+00 0.00000000e+00 0.00000000e+00 0.00000000e+00\n",
      " 0.00000000e+00 1.88135593e+00 4.25423729e+00 1.47457627e+00\n",
      " 0.00000000e+00 6.49152542e+00 4.95593220e+01 1.02881356e+02\n",
      " 1.49152542e+02 2.02203390e+02 1.66711864e+02 8.94237288e+01\n",
      " 3.36101695e+01 1.68813559e+01 1.70338983e+01 1.35762712e+01\n",
      " 8.03389831e+00 1.74576271e+00 0.00000000e+00 0.00000000e+00\n",
      " 0.00000000e+00 0.00000000e+00 0.00000000e+00 0.00000000e+00\n",
      " 0.00000000e+00 0.00000000e+00 0.00000000e+00 0.00000000e+00\n",
      " 0.00000000e+00 2.37288136e-01 3.13559322e+00 4.08474576e+00\n",
      " 6.30508475e+00 2.52203390e+01 7.97118644e+01 1.16627119e+02\n",
      " 1.53237288e+02 1.73322034e+02 1.48830508e+02 8.56271186e+01\n",
      " 4.66779661e+01 2.55762712e+01 1.74745763e+01 1.41016949e+01\n",
      " 9.33898305e+00 2.33898305e+00 0.00000000e+00 0.00000000e+00\n",
      " 0.00000000e+00 0.00000000e+00 0.00000000e+00 0.00000000e+00\n",
      " 0.00000000e+00 0.00000000e+00 0.00000000e+00 0.00000000e+00\n",
      " 0.00000000e+00 0.00000000e+00 3.89830508e-01 4.44067797e+00\n",
      " 1.88813559e+01 5.01016949e+01 9.27796610e+01 1.32847458e+02\n",
      " 1.49000000e+02 1.44694915e+02 1.26338983e+02 7.62372881e+01\n",
      " 4.73050847e+01 3.00169492e+01 1.89322034e+01 8.30508475e+00\n",
      " 6.69491525e+00 3.23728814e+00 0.00000000e+00 0.00000000e+00\n",
      " 0.00000000e+00 0.00000000e+00 0.00000000e+00 0.00000000e+00\n",
      " 0.00000000e+00 0.00000000e+00 0.00000000e+00 0.00000000e+00\n",
      " 0.00000000e+00 0.00000000e+00 4.23728814e+00 1.12372881e+01\n",
      " 2.59661017e+01 6.80000000e+01 9.97118644e+01 1.27864407e+02\n",
      " 1.27728814e+02 1.23864407e+02 1.07372881e+02 7.77288136e+01\n",
      " 4.75932203e+01 2.69830508e+01 1.48305085e+01 7.76271186e+00\n",
      " 4.93220339e+00 2.93220339e+00 0.00000000e+00 0.00000000e+00\n",
      " 0.00000000e+00 0.00000000e+00 2.37288136e+00 0.00000000e+00\n",
      " 0.00000000e+00 0.00000000e+00 0.00000000e+00 0.00000000e+00\n",
      " 0.00000000e+00 0.00000000e+00 3.45762712e+00 1.33220339e+01\n",
      " 3.77627119e+01 8.15593220e+01 1.05813559e+02 1.19322034e+02\n",
      " 1.05033898e+02 1.09237288e+02 9.89152542e+01 6.84237288e+01\n",
      " 3.68813559e+01 2.45423729e+01 1.76949153e+01 1.46271186e+01\n",
      " 5.94915254e+00 2.93220339e+00 0.00000000e+00 0.00000000e+00\n",
      " 0.00000000e+00 0.00000000e+00 0.00000000e+00 0.00000000e+00\n",
      " 0.00000000e+00 0.00000000e+00 0.00000000e+00 0.00000000e+00\n",
      " 0.00000000e+00 0.00000000e+00 2.03389831e-01 5.89830508e+00\n",
      " 2.64237288e+01 7.52542373e+01 9.11186441e+01 8.44576271e+01\n",
      " 6.09491525e+01 6.33728814e+01 6.35593220e+01 4.03898305e+01\n",
      " 2.04406780e+01 1.83728814e+01 1.45932203e+01 7.20338983e+00\n",
      " 4.59322034e+00 2.93220339e+00 0.00000000e+00 0.00000000e+00\n",
      " 0.00000000e+00 0.00000000e+00 0.00000000e+00 0.00000000e+00\n",
      " 0.00000000e+00 0.00000000e+00 0.00000000e+00 0.00000000e+00\n",
      " 0.00000000e+00 0.00000000e+00 0.00000000e+00 0.00000000e+00\n",
      " 9.49152542e-01 2.04915254e+01 2.64067797e+01 1.95084746e+01\n",
      " 9.49152542e+00 4.98305085e+00 1.46949153e+01 1.05762712e+01\n",
      " 5.25423729e-01 0.00000000e+00 0.00000000e+00 0.00000000e+00]\n"
     ]
    }
   ],
   "source": [
    "# Shows the result.\n",
    "centers = model.clusterCenters()\n",
    "print(\"Cluster Centers: \")\n",
    "for center in centers:\n",
    "    print(center)"
   ]
  },
  {
   "cell_type": "markdown",
   "id": "2f13ac78-1459-43b6-b6aa-d52627fe7ee3",
   "metadata": {
    "jp-MarkdownHeadingCollapsed": true
   },
   "source": [
    "## SparkMLLib_NaiveBayes"
   ]
  },
  {
   "cell_type": "code",
   "execution_count": 17,
   "id": "e16c8001-1f98-4209-a22a-1740d7f42d5d",
   "metadata": {},
   "outputs": [
    {
     "name": "stderr",
     "output_type": "stream",
     "text": [
      "25/05/21 20:48:34 WARN SparkSession: Using an existing Spark session; only runtime SQL configurations will take effect.\n"
     ]
    }
   ],
   "source": [
    "from pyspark.sql import SparkSession\n",
    "\n",
    "spark = SparkSession.builder.master(\"local[*]\").appName(\"SparkMLLib_NaiveBayes\").getOrCreate()"
   ]
  },
  {
   "cell_type": "code",
   "execution_count": 18,
   "id": "674a4683-989d-4a24-9eb2-1c31e617b4de",
   "metadata": {},
   "outputs": [
    {
     "name": "stderr",
     "output_type": "stream",
     "text": [
      "25/05/21 20:49:06 WARN LibSVMFileFormat: 'numFeatures' option not specified, determining the number of features by going though the input. If you know the number in advance, please specify it via 'numFeatures' option to avoid the extra scan.\n"
     ]
    },
    {
     "name": "stdout",
     "output_type": "stream",
     "text": [
      "+-----+--------------------+\n",
      "|label|            features|\n",
      "+-----+--------------------+\n",
      "|  0.0|(692,[127,128,129...|\n",
      "|  1.0|(692,[158,159,160...|\n",
      "|  1.0|(692,[124,125,126...|\n",
      "|  1.0|(692,[152,153,154...|\n",
      "|  1.0|(692,[151,152,153...|\n",
      "|  0.0|(692,[129,130,131...|\n",
      "|  1.0|(692,[158,159,160...|\n",
      "|  1.0|(692,[99,100,101,...|\n",
      "|  0.0|(692,[154,155,156...|\n",
      "|  0.0|(692,[127,128,129...|\n",
      "|  1.0|(692,[154,155,156...|\n",
      "|  0.0|(692,[153,154,155...|\n",
      "|  0.0|(692,[151,152,153...|\n",
      "|  1.0|(692,[129,130,131...|\n",
      "|  0.0|(692,[154,155,156...|\n",
      "|  1.0|(692,[150,151,152...|\n",
      "|  0.0|(692,[124,125,126...|\n",
      "|  0.0|(692,[152,153,154...|\n",
      "|  1.0|(692,[97,98,99,12...|\n",
      "|  1.0|(692,[124,125,126...|\n",
      "+-----+--------------------+\n",
      "only showing top 20 rows\n",
      "\n"
     ]
    },
    {
     "data": {
      "text/plain": [
       "100"
      ]
     },
     "execution_count": 18,
     "metadata": {},
     "output_type": "execute_result"
    }
   ],
   "source": [
    "from pyspark.ml.classification import NaiveBayes\n",
    "from pyspark.ml.evaluation import MulticlassClassificationEvaluator\n",
    "\n",
    "# Load training data\n",
    "data = spark.read.format(\"libsvm\").load(\"/home/haphuong/Downloads/spark-3.5.5-bin-hadoop3/data/mllib/sample_libsvm_data.txt\")\n",
    "\n",
    "data.show()\n",
    "data.count()"
   ]
  },
  {
   "cell_type": "code",
   "execution_count": 19,
   "id": "a88432ea-7a93-4c84-b901-a01ff2b7e37d",
   "metadata": {},
   "outputs": [
    {
     "name": "stderr",
     "output_type": "stream",
     "text": [
      "                                                                                "
     ]
    }
   ],
   "source": [
    "# Split the data into train and test\n",
    "splits = data.randomSplit([0.6, 0.4], 1234)\n",
    "train = splits[0]\n",
    "test = splits[1]\n",
    "\n",
    "# create the trainer and set its parameters\n",
    "nb = NaiveBayes(smoothing=1.0, modelType=\"multinomial\")\n",
    "\n",
    "# train the model\n",
    "model = nb.fit(train)"
   ]
  },
  {
   "cell_type": "code",
   "execution_count": 20,
   "id": "92cc75d5-d7cf-4c81-a635-c5b84d24a651",
   "metadata": {},
   "outputs": [
    {
     "name": "stdout",
     "output_type": "stream",
     "text": [
      "+-----+--------------------+--------------------+-----------+----------+\n",
      "|label|            features|       rawPrediction|probability|prediction|\n",
      "+-----+--------------------+--------------------+-----------+----------+\n",
      "|  0.0|(692,[95,96,97,12...|[-172664.79564650...|  [1.0,0.0]|       0.0|\n",
      "|  0.0|(692,[98,99,100,1...|[-176279.15054306...|  [1.0,0.0]|       0.0|\n",
      "|  0.0|(692,[122,123,124...|[-189600.55409526...|  [1.0,0.0]|       0.0|\n",
      "|  0.0|(692,[124,125,126...|[-274673.88337431...|  [1.0,0.0]|       0.0|\n",
      "|  0.0|(692,[124,125,126...|[-183393.03869049...|  [1.0,0.0]|       0.0|\n",
      "|  0.0|(692,[125,126,127...|[-256992.48807619...|  [1.0,0.0]|       0.0|\n",
      "|  0.0|(692,[126,127,128...|[-210411.53649773...|  [1.0,0.0]|       0.0|\n",
      "|  0.0|(692,[127,128,129...|[-170627.63616681...|  [1.0,0.0]|       0.0|\n",
      "|  0.0|(692,[127,128,129...|[-212157.96750469...|  [1.0,0.0]|       0.0|\n",
      "|  0.0|(692,[127,128,129...|[-183253.80108550...|  [1.0,0.0]|       0.0|\n",
      "|  0.0|(692,[128,129,130...|[-246528.93739632...|  [1.0,0.0]|       0.0|\n",
      "|  0.0|(692,[150,151,152...|[-158348.34683571...|  [1.0,0.0]|       0.0|\n",
      "|  0.0|(692,[152,153,154...|[-210229.50765957...|  [1.0,0.0]|       0.0|\n",
      "|  0.0|(692,[152,153,154...|[-242985.16248889...|  [1.0,0.0]|       0.0|\n",
      "|  0.0|(692,[152,153,154...|[-94622.933454005...|  [1.0,0.0]|       0.0|\n",
      "|  0.0|(692,[153,154,155...|[-266465.39689814...|  [1.0,0.0]|       0.0|\n",
      "|  0.0|(692,[153,154,155...|[-144989.71469229...|  [1.0,0.0]|       0.0|\n",
      "|  0.0|(692,[154,155,156...|[-283834.57437738...|  [1.0,0.0]|       0.0|\n",
      "|  0.0|(692,[181,182,183...|[-155256.59399829...|  [1.0,0.0]|       0.0|\n",
      "|  1.0|(692,[100,101,102...|[-147726.11958982...|  [0.0,1.0]|       1.0|\n",
      "+-----+--------------------+--------------------+-----------+----------+\n",
      "only showing top 20 rows\n",
      "\n",
      "Test set accuracy = 1.0\n"
     ]
    }
   ],
   "source": [
    "# select example rows to display.\n",
    "predictions = model.transform(test)\n",
    "predictions.show()\n",
    "\n",
    "# compute accuracy on the test set\n",
    "evaluator = MulticlassClassificationEvaluator(labelCol=\"label\", predictionCol=\"prediction\", metricName=\"accuracy\")\n",
    "accuracy = evaluator.evaluate(predictions)\n",
    "print(\"Test set accuracy = \" + str(accuracy))"
   ]
  },
  {
   "cell_type": "markdown",
   "id": "547b538e-4c38-4cd0-b6c6-38749a28d491",
   "metadata": {
    "jp-MarkdownHeadingCollapsed": true
   },
   "source": [
    "## SparkMLLib_TFIDF"
   ]
  },
  {
   "cell_type": "code",
   "execution_count": 21,
   "id": "f2e9d769-ebd0-48ec-b16b-bbb9bdfbc874",
   "metadata": {},
   "outputs": [
    {
     "name": "stderr",
     "output_type": "stream",
     "text": [
      "25/05/21 20:50:24 WARN SparkSession: Using an existing Spark session; only runtime SQL configurations will take effect.\n"
     ]
    }
   ],
   "source": [
    "from pyspark.sql import SparkSession\n",
    "\n",
    "spark = SparkSession.builder.master(\"local[*]\").appName(\"SparkMLLib_TFIDF\").getOrCreate()"
   ]
  },
  {
   "cell_type": "code",
   "execution_count": 22,
   "id": "5dcbaadd-6cf9-40f1-8399-672d5d28827c",
   "metadata": {},
   "outputs": [
    {
     "name": "stderr",
     "output_type": "stream",
     "text": [
      "                                                                                "
     ]
    },
    {
     "name": "stdout",
     "output_type": "stream",
     "text": [
      "+-----+--------------------+\n",
      "|label|            features|\n",
      "+-----+--------------------+\n",
      "|  0.0|(20,[6,8,13,16],[...|\n",
      "|  0.0|(20,[0,2,7,13,15,...|\n",
      "|  1.0|(20,[3,4,6,11,19]...|\n",
      "+-----+--------------------+\n",
      "\n"
     ]
    }
   ],
   "source": [
    "from pyspark.ml.feature import HashingTF, IDF, Tokenizer\n",
    "\n",
    "sentenceData = spark.createDataFrame([\n",
    "    (0.0, \"Hi I heard about Spark\"),\n",
    "    (0.0, \"I wish Java could use case classes\"),\n",
    "    (1.0, \"Logistic regression models are neat\")\n",
    "], [\"label\", \"sentence\"])\n",
    "\n",
    "tokenizer = Tokenizer(inputCol=\"sentence\", outputCol=\"words\")\n",
    "wordsData = tokenizer.transform(sentenceData)\n",
    "\n",
    "hashingTF = HashingTF(inputCol=\"words\", outputCol=\"rawFeatures\", numFeatures=20)\n",
    "featurizedData = hashingTF.transform(wordsData)\n",
    "# alternatively, CountVectorizer can also be used to get term frequency vectors\n",
    "\n",
    "idf = IDF(inputCol=\"rawFeatures\", outputCol=\"features\")\n",
    "idfModel = idf.fit(featurizedData)\n",
    "rescaledData = idfModel.transform(featurizedData)\n",
    "\n",
    "rescaledData.select(\"label\", \"features\").show()"
   ]
  },
  {
   "cell_type": "code",
   "execution_count": null,
   "id": "eeccc4e8-8db3-4467-be52-fad5aade9702",
   "metadata": {},
   "outputs": [],
   "source": []
  }
 ],
 "metadata": {
  "kernelspec": {
   "display_name": "Python 3 (ipykernel)",
   "language": "python",
   "name": "python3"
  },
  "language_info": {
   "codemirror_mode": {
    "name": "ipython",
    "version": 3
   },
   "file_extension": ".py",
   "mimetype": "text/x-python",
   "name": "python",
   "nbconvert_exporter": "python",
   "pygments_lexer": "ipython3",
   "version": "3.12.3"
  }
 },
 "nbformat": 4,
 "nbformat_minor": 5
}
